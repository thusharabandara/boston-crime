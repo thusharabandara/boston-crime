{
 "cells": [
  {
   "cell_type": "code",
   "execution_count": null,
   "metadata": {},
   "outputs": [],
   "source": [
    "# import relevant libraries\n",
    "import pandas as pd"
   ]
  },
  {
   "cell_type": "code",
   "execution_count": null,
   "metadata": {},
   "outputs": [],
   "source": [
    "import warnings\n",
    "warnings.filterwarnings('ignore')"
   ]
  },
  {
   "cell_type": "code",
   "execution_count": null,
   "metadata": {},
   "outputs": [],
   "source": [
    "# load data into a pandas dataframe\n",
    "crime_df = pd.read_csv(\"dataset/crime.csv\", encoding=\"ISO-8859-1\")"
   ]
  },
  {
   "cell_type": "code",
   "execution_count": null,
   "metadata": {},
   "outputs": [],
   "source": [
    "# get the dimension of the dataframe\n",
    "crime_df.shape"
   ]
  },
  {
   "cell_type": "code",
   "execution_count": null,
   "metadata": {},
   "outputs": [],
   "source": [
    "# get the fields\n",
    "crime_df.columns"
   ]
  },
  {
   "cell_type": "code",
   "execution_count": null,
   "metadata": {},
   "outputs": [],
   "source": [
    "# get the information about the dataframe\n",
    "crime_df.info()"
   ]
  },
  {
   "cell_type": "code",
   "execution_count": null,
   "metadata": {},
   "outputs": [],
   "source": [
    "# check if the data contains NULL values\n",
    "crime_df.isnull().sum().any()\n",
    "# True, meaning there are NULL values"
   ]
  },
  {
   "cell_type": "code",
   "execution_count": null,
   "metadata": {},
   "outputs": [],
   "source": [
    "# get the value count of 'SHOOTING' column\n",
    "crime_df['SHOOTING'].value_counts()"
   ]
  },
  {
   "cell_type": "code",
   "execution_count": null,
   "metadata": {},
   "outputs": [],
   "source": [
    "# drop a column from the dataframe\n",
    "updated_crimedf = crime_df.drop(['SHOOTING'], axis=1)"
   ]
  },
  {
   "cell_type": "code",
   "execution_count": null,
   "metadata": {},
   "outputs": [],
   "source": [
    "# check columns\n",
    "updated_crimedf.columns"
   ]
  },
  {
   "cell_type": "code",
   "execution_count": null,
   "metadata": {},
   "outputs": [],
   "source": [
    "# drop the rows where at least one element is missing\n",
    "cleaned_crimedf = updated_crimedf.dropna()"
   ]
  },
  {
   "cell_type": "code",
   "execution_count": null,
   "metadata": {},
   "outputs": [],
   "source": [
    "# check the new dimension of the dataframe\n",
    "cleaned_crimedf.shape"
   ]
  },
  {
   "cell_type": "code",
   "execution_count": null,
   "metadata": {},
   "outputs": [],
   "source": [
    "# import datetime\n",
    "from datetime import datetime\n",
    "\n",
    "# convert string to timestamp\n",
    "cleaned_crimedf[\"OCCURRED_ON_DATE\"] = cleaned_crimedf[\"OCCURRED_ON_DATE\"].apply(lambda x: \\\n",
    "    datetime.strptime(x,\"%Y-%m-%d %H:%M:%S\"))"
   ]
  },
  {
   "cell_type": "code",
   "execution_count": null,
   "metadata": {},
   "outputs": [],
   "source": [
    "# split OCCURRED_ON_DATE into date and time\n",
    "cleaned_crimedf['DATE'] = [d.date() for d in cleaned_crimedf['OCCURRED_ON_DATE']]\n",
    "cleaned_crimedf['TIME'] = [d.time() for d in cleaned_crimedf['OCCURRED_ON_DATE']]"
   ]
  },
  {
   "cell_type": "code",
   "execution_count": null,
   "metadata": {},
   "outputs": [],
   "source": [
    "# display first five fields\n",
    "cleaned_crimedf.head()"
   ]
  },
  {
   "cell_type": "code",
   "execution_count": null,
   "metadata": {},
   "outputs": [],
   "source": [
    "crimedf = cleaned_crimedf"
   ]
  },
  {
   "cell_type": "markdown",
   "metadata": {},
   "source": [
    "# Number of Crimes for each Time Period"
   ]
  },
  {
   "cell_type": "markdown",
   "metadata": {},
   "source": [
    "### Daily Crime Count"
   ]
  },
  {
   "cell_type": "code",
   "execution_count": null,
   "metadata": {},
   "outputs": [],
   "source": [
    "# get the number of crimes for each day\n",
    "crime_count_by_date = pd.DataFrame(crimedf.groupby('DATE').size().sort_values(ascending=False).rename('COUNT').reset_index())"
   ]
  },
  {
   "cell_type": "code",
   "execution_count": null,
   "metadata": {},
   "outputs": [],
   "source": [
    "# display the dataframe\n",
    "crime_count_by_date.head()"
   ]
  },
  {
   "cell_type": "code",
   "execution_count": null,
   "metadata": {},
   "outputs": [],
   "source": [
    "# get the shape of the dataframe\n",
    "crime_count_by_date.shape"
   ]
  },
  {
   "cell_type": "code",
   "execution_count": null,
   "metadata": {},
   "outputs": [],
   "source": [
    "# get the dataframe summary\n",
    "crime_count_by_date.info()"
   ]
  },
  {
   "cell_type": "code",
   "execution_count": null,
   "metadata": {},
   "outputs": [],
   "source": [
    "# import relevant libraries\n",
    "import matplotlib.pyplot as plt\n",
    "import seaborn as sns\n",
    "sns.set(style=\"whitegrid\")"
   ]
  },
  {
   "cell_type": "code",
   "execution_count": null,
   "metadata": {},
   "outputs": [],
   "source": [
    "# create the matplotlib figure\n",
    "fig, ax = plt.subplots(figsize=(20, 5))\n",
    "\n",
    "# plot the graph of number of crimes vs. date\n",
    "# First 30 maximum number of crimes will be plotted\n",
    "barplot1 = sns.barplot(x=\"DATE\", y=\"COUNT\", data=crime_count_by_date.iloc[:30, :], color=\"g\")\n",
    "# set the axis labels\n",
    "ax.set(ylabel=\"Number of Crimes\", xlabel=\"Date\")\n",
    "# rotate xticklabels\n",
    "barplot1.set_xticklabels(barplot1.get_xticklabels(),\n",
    "                        rotation=45,\n",
    "                        horizontalalignment='right',\n",
    "                        fontweight='light',\n",
    "                        fontsize='large'\n",
    "                        )"
   ]
  },
  {
   "cell_type": "code",
   "execution_count": null,
   "metadata": {},
   "outputs": [],
   "source": [
    "# get the number of crimes for each day without sorting\n",
    "new_crime_count_by_date = pd.DataFrame(crimedf.groupby('DATE').size().rename('COUNT').reset_index())"
   ]
  },
  {
   "cell_type": "code",
   "execution_count": null,
   "metadata": {},
   "outputs": [],
   "source": [
    "# plot the line graph in order to observe the pattern\n",
    "# Number of crimes for first 60 days will be plotted\n",
    "lineplot1 = new_crime_count_by_date.iloc[:60, :].plot.line(x=\"DATE\", y=\"COUNT\", figsize=(20, 10))"
   ]
  },
  {
   "cell_type": "markdown",
   "metadata": {},
   "source": [
    "### Yearly Crime Count"
   ]
  },
  {
   "cell_type": "code",
   "execution_count": null,
   "metadata": {},
   "outputs": [],
   "source": [
    "# get the number of crimes for each year\n",
    "crime_count_by_year = pd.DataFrame(crimedf.groupby('YEAR').size().rename('COUNT').reset_index())"
   ]
  },
  {
   "cell_type": "code",
   "execution_count": null,
   "metadata": {},
   "outputs": [],
   "source": [
    "crime_count_by_year.head()"
   ]
  },
  {
   "cell_type": "code",
   "execution_count": null,
   "metadata": {},
   "outputs": [],
   "source": [
    "# create the matplotlib figure\n",
    "fig, ax = plt.subplots(figsize=(8, 5))\n",
    "\n",
    "# plot the graph of number of crimes vs. year\n",
    "barplot2 = sns.barplot(x=\"YEAR\", y=\"COUNT\", data=crime_count_by_year, color=\"g\")\n",
    "# set the axis labels\n",
    "ax.set(ylabel=\"Number of Crimes\", xlabel=\"Year\")\n",
    "# rotate xticklabels\n",
    "barplot2.set_xticklabels(barplot2.get_xticklabels(),\n",
    "                        rotation=45,\n",
    "                        horizontalalignment='right',\n",
    "                        fontweight='light',\n",
    "                        fontsize='x-large'\n",
    "                        )"
   ]
  },
  {
   "cell_type": "code",
   "execution_count": null,
   "metadata": {},
   "outputs": [],
   "source": [
    "# plot the line graph in order to observe the pattern\n",
    "# Number of crimes for each year will be plotted\n",
    "lineplot2 = crime_count_by_year.plot.line(x=\"YEAR\", y=\"COUNT\", figsize=(12, 6))"
   ]
  }
 ],
 "metadata": {
  "kernelspec": {
   "display_name": "Python 3",
   "language": "python",
   "name": "python3"
  },
  "language_info": {
   "codemirror_mode": {
    "name": "ipython",
    "version": 3
   },
   "file_extension": ".py",
   "mimetype": "text/x-python",
   "name": "python",
   "nbconvert_exporter": "python",
   "pygments_lexer": "ipython3",
   "version": "3.6.4"
  }
 },
 "nbformat": 4,
 "nbformat_minor": 2
}
