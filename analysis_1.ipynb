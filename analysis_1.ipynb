{
 "cells": [
  {
   "cell_type": "code",
   "execution_count": 1,
   "metadata": {},
   "outputs": [],
   "source": [
    "# import relevant libraries\n",
    "import pandas as pd"
   ]
  },
  {
   "cell_type": "code",
   "execution_count": 2,
   "metadata": {},
   "outputs": [],
   "source": [
    "import warnings\n",
    "warnings.filterwarnings('ignore')"
   ]
  },
  {
   "cell_type": "code",
   "execution_count": 3,
   "metadata": {},
   "outputs": [],
   "source": [
    "# load data into a pandas dataframe\n",
    "crime_df = pd.read_csv(\"dataset/crime.csv\", encoding=\"ISO-8859-1\")"
   ]
  },
  {
   "cell_type": "code",
   "execution_count": 4,
   "metadata": {},
   "outputs": [
    {
     "data": {
      "text/plain": [
       "(319073, 17)"
      ]
     },
     "execution_count": 4,
     "metadata": {},
     "output_type": "execute_result"
    }
   ],
   "source": [
    "# get the dimension of the dataframe\n",
    "crime_df.shape"
   ]
  },
  {
   "cell_type": "code",
   "execution_count": 5,
   "metadata": {},
   "outputs": [
    {
     "data": {
      "text/plain": [
       "Index(['INCIDENT_NUMBER', 'OFFENSE_CODE', 'OFFENSE_CODE_GROUP',\n",
       "       'OFFENSE_DESCRIPTION', 'DISTRICT', 'REPORTING_AREA', 'SHOOTING',\n",
       "       'OCCURRED_ON_DATE', 'YEAR', 'MONTH', 'DAY_OF_WEEK', 'HOUR', 'UCR_PART',\n",
       "       'STREET', 'Lat', 'Long', 'Location'],\n",
       "      dtype='object')"
      ]
     },
     "execution_count": 5,
     "metadata": {},
     "output_type": "execute_result"
    }
   ],
   "source": [
    "# get the fields\n",
    "crime_df.columns"
   ]
  },
  {
   "cell_type": "code",
   "execution_count": 6,
   "metadata": {},
   "outputs": [
    {
     "name": "stdout",
     "output_type": "stream",
     "text": [
      "<class 'pandas.core.frame.DataFrame'>\n",
      "RangeIndex: 319073 entries, 0 to 319072\n",
      "Data columns (total 17 columns):\n",
      "INCIDENT_NUMBER        319073 non-null object\n",
      "OFFENSE_CODE           319073 non-null int64\n",
      "OFFENSE_CODE_GROUP     319073 non-null object\n",
      "OFFENSE_DESCRIPTION    319073 non-null object\n",
      "DISTRICT               317308 non-null object\n",
      "REPORTING_AREA         319073 non-null object\n",
      "SHOOTING               1019 non-null object\n",
      "OCCURRED_ON_DATE       319073 non-null object\n",
      "YEAR                   319073 non-null int64\n",
      "MONTH                  319073 non-null int64\n",
      "DAY_OF_WEEK            319073 non-null object\n",
      "HOUR                   319073 non-null int64\n",
      "UCR_PART               318983 non-null object\n",
      "STREET                 308202 non-null object\n",
      "Lat                    299074 non-null float64\n",
      "Long                   299074 non-null float64\n",
      "Location               319073 non-null object\n",
      "dtypes: float64(2), int64(4), object(11)\n",
      "memory usage: 41.4+ MB\n"
     ]
    }
   ],
   "source": [
    "# get the information about the dataframe\n",
    "crime_df.info()"
   ]
  },
  {
   "cell_type": "code",
   "execution_count": 7,
   "metadata": {},
   "outputs": [
    {
     "data": {
      "text/plain": [
       "True"
      ]
     },
     "execution_count": 7,
     "metadata": {},
     "output_type": "execute_result"
    }
   ],
   "source": [
    "# check if the data contains NULL values\n",
    "crime_df.isnull().sum().any()\n",
    "# True, meaning there are NULL values"
   ]
  },
  {
   "cell_type": "code",
   "execution_count": 8,
   "metadata": {},
   "outputs": [
    {
     "data": {
      "text/plain": [
       "Y    1019\n",
       "Name: SHOOTING, dtype: int64"
      ]
     },
     "execution_count": 8,
     "metadata": {},
     "output_type": "execute_result"
    }
   ],
   "source": [
    "# get the value count of 'SHOOTING' column\n",
    "crime_df['SHOOTING'].value_counts()"
   ]
  },
  {
   "cell_type": "code",
   "execution_count": 9,
   "metadata": {},
   "outputs": [],
   "source": [
    "# drop a column from the dataframe\n",
    "updated_crimedf = crime_df.drop(['SHOOTING'], axis=1)"
   ]
  },
  {
   "cell_type": "code",
   "execution_count": 10,
   "metadata": {},
   "outputs": [
    {
     "data": {
      "text/plain": [
       "Index(['INCIDENT_NUMBER', 'OFFENSE_CODE', 'OFFENSE_CODE_GROUP',\n",
       "       'OFFENSE_DESCRIPTION', 'DISTRICT', 'REPORTING_AREA', 'OCCURRED_ON_DATE',\n",
       "       'YEAR', 'MONTH', 'DAY_OF_WEEK', 'HOUR', 'UCR_PART', 'STREET', 'Lat',\n",
       "       'Long', 'Location'],\n",
       "      dtype='object')"
      ]
     },
     "execution_count": 10,
     "metadata": {},
     "output_type": "execute_result"
    }
   ],
   "source": [
    "# check columns\n",
    "updated_crimedf.columns"
   ]
  },
  {
   "cell_type": "code",
   "execution_count": 11,
   "metadata": {},
   "outputs": [],
   "source": [
    "# drop the rows where at least one element is missing\n",
    "cleaned_crimedf = updated_crimedf.dropna()"
   ]
  },
  {
   "cell_type": "code",
   "execution_count": 12,
   "metadata": {},
   "outputs": [
    {
     "data": {
      "text/plain": [
       "(296573, 16)"
      ]
     },
     "execution_count": 12,
     "metadata": {},
     "output_type": "execute_result"
    }
   ],
   "source": [
    "# check the new dimension of the dataframe\n",
    "cleaned_crimedf.shape"
   ]
  },
  {
   "cell_type": "code",
   "execution_count": 13,
   "metadata": {},
   "outputs": [],
   "source": [
    "# import datetime\n",
    "from datetime import datetime\n",
    "\n",
    "# convert string to timestamp\n",
    "cleaned_crimedf[\"OCCURRED_ON_DATE\"] = cleaned_crimedf[\"OCCURRED_ON_DATE\"].apply(lambda x: \\\n",
    "    datetime.strptime(x,\"%Y-%m-%d %H:%M:%S\"))"
   ]
  },
  {
   "cell_type": "code",
   "execution_count": 14,
   "metadata": {},
   "outputs": [],
   "source": [
    "# split OCCURRED_ON_DATE into date and time\n",
    "cleaned_crimedf['DATE'] = [d.date() for d in cleaned_crimedf['OCCURRED_ON_DATE']]\n",
    "cleaned_crimedf['TIME'] = [d.time() for d in cleaned_crimedf['OCCURRED_ON_DATE']]"
   ]
  },
  {
   "cell_type": "code",
   "execution_count": 15,
   "metadata": {},
   "outputs": [
    {
     "data": {
      "text/html": [
       "<div>\n",
       "<style scoped>\n",
       "    .dataframe tbody tr th:only-of-type {\n",
       "        vertical-align: middle;\n",
       "    }\n",
       "\n",
       "    .dataframe tbody tr th {\n",
       "        vertical-align: top;\n",
       "    }\n",
       "\n",
       "    .dataframe thead th {\n",
       "        text-align: right;\n",
       "    }\n",
       "</style>\n",
       "<table border=\"1\" class=\"dataframe\">\n",
       "  <thead>\n",
       "    <tr style=\"text-align: right;\">\n",
       "      <th></th>\n",
       "      <th>INCIDENT_NUMBER</th>\n",
       "      <th>OFFENSE_CODE</th>\n",
       "      <th>OFFENSE_CODE_GROUP</th>\n",
       "      <th>OFFENSE_DESCRIPTION</th>\n",
       "      <th>DISTRICT</th>\n",
       "      <th>REPORTING_AREA</th>\n",
       "      <th>OCCURRED_ON_DATE</th>\n",
       "      <th>YEAR</th>\n",
       "      <th>MONTH</th>\n",
       "      <th>DAY_OF_WEEK</th>\n",
       "      <th>HOUR</th>\n",
       "      <th>UCR_PART</th>\n",
       "      <th>STREET</th>\n",
       "      <th>Lat</th>\n",
       "      <th>Long</th>\n",
       "      <th>Location</th>\n",
       "      <th>DATE</th>\n",
       "      <th>TIME</th>\n",
       "    </tr>\n",
       "  </thead>\n",
       "  <tbody>\n",
       "    <tr>\n",
       "      <th>0</th>\n",
       "      <td>I182070945</td>\n",
       "      <td>619</td>\n",
       "      <td>Larceny</td>\n",
       "      <td>LARCENY ALL OTHERS</td>\n",
       "      <td>D14</td>\n",
       "      <td>808</td>\n",
       "      <td>2018-09-02 13:00:00</td>\n",
       "      <td>2018</td>\n",
       "      <td>9</td>\n",
       "      <td>Sunday</td>\n",
       "      <td>13</td>\n",
       "      <td>Part One</td>\n",
       "      <td>LINCOLN ST</td>\n",
       "      <td>42.357791</td>\n",
       "      <td>-71.139371</td>\n",
       "      <td>(42.35779134, -71.13937053)</td>\n",
       "      <td>2018-09-02</td>\n",
       "      <td>13:00:00</td>\n",
       "    </tr>\n",
       "    <tr>\n",
       "      <th>1</th>\n",
       "      <td>I182070943</td>\n",
       "      <td>1402</td>\n",
       "      <td>Vandalism</td>\n",
       "      <td>VANDALISM</td>\n",
       "      <td>C11</td>\n",
       "      <td>347</td>\n",
       "      <td>2018-08-21 00:00:00</td>\n",
       "      <td>2018</td>\n",
       "      <td>8</td>\n",
       "      <td>Tuesday</td>\n",
       "      <td>0</td>\n",
       "      <td>Part Two</td>\n",
       "      <td>HECLA ST</td>\n",
       "      <td>42.306821</td>\n",
       "      <td>-71.060300</td>\n",
       "      <td>(42.30682138, -71.06030035)</td>\n",
       "      <td>2018-08-21</td>\n",
       "      <td>00:00:00</td>\n",
       "    </tr>\n",
       "    <tr>\n",
       "      <th>2</th>\n",
       "      <td>I182070941</td>\n",
       "      <td>3410</td>\n",
       "      <td>Towed</td>\n",
       "      <td>TOWED MOTOR VEHICLE</td>\n",
       "      <td>D4</td>\n",
       "      <td>151</td>\n",
       "      <td>2018-09-03 19:27:00</td>\n",
       "      <td>2018</td>\n",
       "      <td>9</td>\n",
       "      <td>Monday</td>\n",
       "      <td>19</td>\n",
       "      <td>Part Three</td>\n",
       "      <td>CAZENOVE ST</td>\n",
       "      <td>42.346589</td>\n",
       "      <td>-71.072429</td>\n",
       "      <td>(42.34658879, -71.07242943)</td>\n",
       "      <td>2018-09-03</td>\n",
       "      <td>19:27:00</td>\n",
       "    </tr>\n",
       "    <tr>\n",
       "      <th>3</th>\n",
       "      <td>I182070940</td>\n",
       "      <td>3114</td>\n",
       "      <td>Investigate Property</td>\n",
       "      <td>INVESTIGATE PROPERTY</td>\n",
       "      <td>D4</td>\n",
       "      <td>272</td>\n",
       "      <td>2018-09-03 21:16:00</td>\n",
       "      <td>2018</td>\n",
       "      <td>9</td>\n",
       "      <td>Monday</td>\n",
       "      <td>21</td>\n",
       "      <td>Part Three</td>\n",
       "      <td>NEWCOMB ST</td>\n",
       "      <td>42.334182</td>\n",
       "      <td>-71.078664</td>\n",
       "      <td>(42.33418175, -71.07866441)</td>\n",
       "      <td>2018-09-03</td>\n",
       "      <td>21:16:00</td>\n",
       "    </tr>\n",
       "    <tr>\n",
       "      <th>4</th>\n",
       "      <td>I182070938</td>\n",
       "      <td>3114</td>\n",
       "      <td>Investigate Property</td>\n",
       "      <td>INVESTIGATE PROPERTY</td>\n",
       "      <td>B3</td>\n",
       "      <td>421</td>\n",
       "      <td>2018-09-03 21:05:00</td>\n",
       "      <td>2018</td>\n",
       "      <td>9</td>\n",
       "      <td>Monday</td>\n",
       "      <td>21</td>\n",
       "      <td>Part Three</td>\n",
       "      <td>DELHI ST</td>\n",
       "      <td>42.275365</td>\n",
       "      <td>-71.090361</td>\n",
       "      <td>(42.27536542, -71.09036101)</td>\n",
       "      <td>2018-09-03</td>\n",
       "      <td>21:05:00</td>\n",
       "    </tr>\n",
       "  </tbody>\n",
       "</table>\n",
       "</div>"
      ],
      "text/plain": [
       "  INCIDENT_NUMBER  OFFENSE_CODE    OFFENSE_CODE_GROUP   OFFENSE_DESCRIPTION  \\\n",
       "0      I182070945           619               Larceny    LARCENY ALL OTHERS   \n",
       "1      I182070943          1402             Vandalism             VANDALISM   \n",
       "2      I182070941          3410                 Towed   TOWED MOTOR VEHICLE   \n",
       "3      I182070940          3114  Investigate Property  INVESTIGATE PROPERTY   \n",
       "4      I182070938          3114  Investigate Property  INVESTIGATE PROPERTY   \n",
       "\n",
       "  DISTRICT REPORTING_AREA    OCCURRED_ON_DATE  YEAR  MONTH DAY_OF_WEEK  HOUR  \\\n",
       "0      D14            808 2018-09-02 13:00:00  2018      9      Sunday    13   \n",
       "1      C11            347 2018-08-21 00:00:00  2018      8     Tuesday     0   \n",
       "2       D4            151 2018-09-03 19:27:00  2018      9      Monday    19   \n",
       "3       D4            272 2018-09-03 21:16:00  2018      9      Monday    21   \n",
       "4       B3            421 2018-09-03 21:05:00  2018      9      Monday    21   \n",
       "\n",
       "     UCR_PART       STREET        Lat       Long                     Location  \\\n",
       "0    Part One   LINCOLN ST  42.357791 -71.139371  (42.35779134, -71.13937053)   \n",
       "1    Part Two     HECLA ST  42.306821 -71.060300  (42.30682138, -71.06030035)   \n",
       "2  Part Three  CAZENOVE ST  42.346589 -71.072429  (42.34658879, -71.07242943)   \n",
       "3  Part Three   NEWCOMB ST  42.334182 -71.078664  (42.33418175, -71.07866441)   \n",
       "4  Part Three     DELHI ST  42.275365 -71.090361  (42.27536542, -71.09036101)   \n",
       "\n",
       "         DATE      TIME  \n",
       "0  2018-09-02  13:00:00  \n",
       "1  2018-08-21  00:00:00  \n",
       "2  2018-09-03  19:27:00  \n",
       "3  2018-09-03  21:16:00  \n",
       "4  2018-09-03  21:05:00  "
      ]
     },
     "execution_count": 15,
     "metadata": {},
     "output_type": "execute_result"
    }
   ],
   "source": [
    "# display first five fields\n",
    "cleaned_crimedf.head()"
   ]
  },
  {
   "cell_type": "code",
   "execution_count": 16,
   "metadata": {},
   "outputs": [],
   "source": [
    "crimedf = cleaned_crimedf"
   ]
  },
  {
   "cell_type": "markdown",
   "metadata": {},
   "source": [
    "# Number of Crimes for each Time Period"
   ]
  },
  {
   "cell_type": "markdown",
   "metadata": {},
   "source": [
    "### Daily Crime Count"
   ]
  },
  {
   "cell_type": "code",
   "execution_count": 17,
   "metadata": {},
   "outputs": [],
   "source": [
    "# get the number of crimes for each day\n",
    "crime_count_by_date = pd.DataFrame(crimedf.groupby('DATE').size().sort_values(ascending=False).rename('COUNT').reset_index())"
   ]
  },
  {
   "cell_type": "code",
   "execution_count": 18,
   "metadata": {},
   "outputs": [
    {
     "data": {
      "text/html": [
       "<div>\n",
       "<style scoped>\n",
       "    .dataframe tbody tr th:only-of-type {\n",
       "        vertical-align: middle;\n",
       "    }\n",
       "\n",
       "    .dataframe tbody tr th {\n",
       "        vertical-align: top;\n",
       "    }\n",
       "\n",
       "    .dataframe thead th {\n",
       "        text-align: right;\n",
       "    }\n",
       "</style>\n",
       "<table border=\"1\" class=\"dataframe\">\n",
       "  <thead>\n",
       "    <tr style=\"text-align: right;\">\n",
       "      <th></th>\n",
       "      <th>DATE</th>\n",
       "      <th>COUNT</th>\n",
       "    </tr>\n",
       "  </thead>\n",
       "  <tbody>\n",
       "    <tr>\n",
       "      <th>0</th>\n",
       "      <td>2016-09-01</td>\n",
       "      <td>351</td>\n",
       "    </tr>\n",
       "    <tr>\n",
       "      <th>1</th>\n",
       "      <td>2016-01-01</td>\n",
       "      <td>348</td>\n",
       "    </tr>\n",
       "    <tr>\n",
       "      <th>2</th>\n",
       "      <td>2017-09-01</td>\n",
       "      <td>344</td>\n",
       "    </tr>\n",
       "    <tr>\n",
       "      <th>3</th>\n",
       "      <td>2017-09-22</td>\n",
       "      <td>339</td>\n",
       "    </tr>\n",
       "    <tr>\n",
       "      <th>4</th>\n",
       "      <td>2018-06-15</td>\n",
       "      <td>336</td>\n",
       "    </tr>\n",
       "  </tbody>\n",
       "</table>\n",
       "</div>"
      ],
      "text/plain": [
       "         DATE  COUNT\n",
       "0  2016-09-01    351\n",
       "1  2016-01-01    348\n",
       "2  2017-09-01    344\n",
       "3  2017-09-22    339\n",
       "4  2018-06-15    336"
      ]
     },
     "execution_count": 18,
     "metadata": {},
     "output_type": "execute_result"
    }
   ],
   "source": [
    "# display the dataframe\n",
    "crime_count_by_date.head()"
   ]
  },
  {
   "cell_type": "code",
   "execution_count": 19,
   "metadata": {},
   "outputs": [
    {
     "data": {
      "text/plain": [
       "(1177, 2)"
      ]
     },
     "execution_count": 19,
     "metadata": {},
     "output_type": "execute_result"
    }
   ],
   "source": [
    "# get the shape of the dataframe\n",
    "crime_count_by_date.shape"
   ]
  },
  {
   "cell_type": "code",
   "execution_count": 20,
   "metadata": {},
   "outputs": [
    {
     "name": "stdout",
     "output_type": "stream",
     "text": [
      "<class 'pandas.core.frame.DataFrame'>\n",
      "RangeIndex: 1177 entries, 0 to 1176\n",
      "Data columns (total 2 columns):\n",
      "DATE     1177 non-null object\n",
      "COUNT    1177 non-null int64\n",
      "dtypes: int64(1), object(1)\n",
      "memory usage: 18.5+ KB\n"
     ]
    }
   ],
   "source": [
    "# get the dataframe summary\n",
    "crime_count_by_date.info()"
   ]
  },
  {
   "cell_type": "code",
   "execution_count": 21,
   "metadata": {},
   "outputs": [],
   "source": [
    "# import relevant libraries\n",
    "import matplotlib.pyplot as plt\n",
    "import seaborn as sns\n",
    "sns.set(style=\"whitegrid\")"
   ]
  },
  {
   "cell_type": "code",
   "execution_count": 22,
   "metadata": {},
   "outputs": [
    {
     "data": {
      "text/plain": [
       "[Text(0,0,'2016-09-01'),\n",
       " Text(0,0,'2016-01-01'),\n",
       " Text(0,0,'2017-09-01'),\n",
       " Text(0,0,'2017-09-22'),\n",
       " Text(0,0,'2018-06-15'),\n",
       " Text(0,0,'2017-09-15'),\n",
       " Text(0,0,'2017-05-16'),\n",
       " Text(0,0,'2017-08-04'),\n",
       " Text(0,0,'2017-09-08'),\n",
       " Text(0,0,'2017-02-24'),\n",
       " Text(0,0,'2016-09-16'),\n",
       " Text(0,0,'2018-05-02'),\n",
       " Text(0,0,'2016-04-01'),\n",
       " Text(0,0,'2018-06-14'),\n",
       " Text(0,0,'2017-08-01'),\n",
       " Text(0,0,'2015-09-25'),\n",
       " Text(0,0,'2017-06-28'),\n",
       " Text(0,0,'2017-06-16'),\n",
       " Text(0,0,'2016-05-31'),\n",
       " Text(0,0,'2016-11-01'),\n",
       " Text(0,0,'2018-05-23'),\n",
       " Text(0,0,'2015-09-19'),\n",
       " Text(0,0,'2018-06-25'),\n",
       " Text(0,0,'2017-06-15'),\n",
       " Text(0,0,'2017-06-13'),\n",
       " Text(0,0,'2018-05-04'),\n",
       " Text(0,0,'2017-05-19'),\n",
       " Text(0,0,'2015-10-23'),\n",
       " Text(0,0,'2016-10-08'),\n",
       " Text(0,0,'2017-08-03')]"
      ]
     },
     "execution_count": 22,
     "metadata": {},
     "output_type": "execute_result"
    },
    {
     "data": {
      "image/png": "[encoded data removed]",
      "text/plain": [
       "<matplotlib.figure.Figure at 0x26341852f60>"
      ]
     },
     "metadata": {},
     "output_type": "display_data"
    }
   ],
   "source": [
    "# create the matplotlib figure\n",
    "fig, ax = plt.subplots(figsize=(20, 5))\n",
    "\n",
    "# plot the graph of number of crimes vs. date\n",
    "# First 30 maximum number of crimes will be plotted\n",
    "barplot1 = sns.barplot(x=\"DATE\", y=\"COUNT\", data=crime_count_by_date.iloc[:30, :], color=\"g\")\n",
    "# set the axis labels\n",
    "ax.set(ylabel=\"Number of Crimes\", xlabel=\"Date\")\n",
    "# rotate xticklabels\n",
    "barplot1.set_xticklabels(barplot1.get_xticklabels(),\n",
    "                        rotation=45,\n",
    "                        horizontalalignment='right',\n",
    "                        fontweight='light',\n",
    "                        fontsize='large'\n",
    "                        )"
   ]
  },
  {
   "cell_type": "code",
   "execution_count": 23,
   "metadata": {},
   "outputs": [],
   "source": [
    "# get the number of crimes for each day without sorting\n",
    "new_crime_count_by_date = pd.DataFrame(crimedf.groupby('DATE').size().rename('COUNT').reset_index())"
   ]
  },
  {
   "cell_type": "code",
   "execution_count": 24,
   "metadata": {},
   "outputs": [
    {
     "data": {
      "image/png": "[encoded data removed]",
      "text/plain": [
       "<matplotlib.figure.Figure at 0x263418fb240>"
      ]
     },
     "metadata": {},
     "output_type": "display_data"
    }
   ],
   "source": [
    "# plot the line graph in order to observe the pattern\n",
    "# Number of crimes for first 60 days will be plotted\n",
    "lineplot1 = new_crime_count_by_date.iloc[:60, :].plot.line(x=\"DATE\", y=\"COUNT\", figsize=(20, 10))"
   ]
  },
  {
   "cell_type": "markdown",
   "metadata": {},
   "source": [
    "### Monthly Crime Count"
   ]
  },
  {
   "cell_type": "code",
   "execution_count": 25,
   "metadata": {},
   "outputs": [],
   "source": [
    "# Extract the Year-Month combination from the 'OCCURRED_ON_DATE' using 'dt.to_period' function.\n",
    "# Where 'D', 'M' and 'Y' are the inputs.\n",
    "# Here, 'OCCURRED_ON_DATE' should be in the datetime format.\n",
    "crimedf['YEAR_MONTH'] = pd.to_datetime(crimedf['OCCURRED_ON_DATE']).dt.to_period('M')"
   ]
  },
  {
   "cell_type": "code",
   "execution_count": 26,
   "metadata": {},
   "outputs": [
    {
     "data": {
      "text/html": [
       "<div>\n",
       "<style scoped>\n",
       "    .dataframe tbody tr th:only-of-type {\n",
       "        vertical-align: middle;\n",
       "    }\n",
       "\n",
       "    .dataframe tbody tr th {\n",
       "        vertical-align: top;\n",
       "    }\n",
       "\n",
       "    .dataframe thead th {\n",
       "        text-align: right;\n",
       "    }\n",
       "</style>\n",
       "<table border=\"1\" class=\"dataframe\">\n",
       "  <thead>\n",
       "    <tr style=\"text-align: right;\">\n",
       "      <th></th>\n",
       "      <th>INCIDENT_NUMBER</th>\n",
       "      <th>OFFENSE_CODE</th>\n",
       "      <th>OFFENSE_CODE_GROUP</th>\n",
       "      <th>OFFENSE_DESCRIPTION</th>\n",
       "      <th>DISTRICT</th>\n",
       "      <th>REPORTING_AREA</th>\n",
       "      <th>OCCURRED_ON_DATE</th>\n",
       "      <th>YEAR</th>\n",
       "      <th>MONTH</th>\n",
       "      <th>DAY_OF_WEEK</th>\n",
       "      <th>HOUR</th>\n",
       "      <th>UCR_PART</th>\n",
       "      <th>STREET</th>\n",
       "      <th>Lat</th>\n",
       "      <th>Long</th>\n",
       "      <th>Location</th>\n",
       "      <th>DATE</th>\n",
       "      <th>TIME</th>\n",
       "      <th>YEAR_MONTH</th>\n",
       "    </tr>\n",
       "  </thead>\n",
       "  <tbody>\n",
       "    <tr>\n",
       "      <th>0</th>\n",
       "      <td>I182070945</td>\n",
       "      <td>619</td>\n",
       "      <td>Larceny</td>\n",
       "      <td>LARCENY ALL OTHERS</td>\n",
       "      <td>D14</td>\n",
       "      <td>808</td>\n",
       "      <td>2018-09-02 13:00:00</td>\n",
       "      <td>2018</td>\n",
       "      <td>9</td>\n",
       "      <td>Sunday</td>\n",
       "      <td>13</td>\n",
       "      <td>Part One</td>\n",
       "      <td>LINCOLN ST</td>\n",
       "      <td>42.357791</td>\n",
       "      <td>-71.139371</td>\n",
       "      <td>(42.35779134, -71.13937053)</td>\n",
       "      <td>2018-09-02</td>\n",
       "      <td>13:00:00</td>\n",
       "      <td>2018-09</td>\n",
       "    </tr>\n",
       "    <tr>\n",
       "      <th>1</th>\n",
       "      <td>I182070943</td>\n",
       "      <td>1402</td>\n",
       "      <td>Vandalism</td>\n",
       "      <td>VANDALISM</td>\n",
       "      <td>C11</td>\n",
       "      <td>347</td>\n",
       "      <td>2018-08-21 00:00:00</td>\n",
       "      <td>2018</td>\n",
       "      <td>8</td>\n",
       "      <td>Tuesday</td>\n",
       "      <td>0</td>\n",
       "      <td>Part Two</td>\n",
       "      <td>HECLA ST</td>\n",
       "      <td>42.306821</td>\n",
       "      <td>-71.060300</td>\n",
       "      <td>(42.30682138, -71.06030035)</td>\n",
       "      <td>2018-08-21</td>\n",
       "      <td>00:00:00</td>\n",
       "      <td>2018-08</td>\n",
       "    </tr>\n",
       "    <tr>\n",
       "      <th>2</th>\n",
       "      <td>I182070941</td>\n",
       "      <td>3410</td>\n",
       "      <td>Towed</td>\n",
       "      <td>TOWED MOTOR VEHICLE</td>\n",
       "      <td>D4</td>\n",
       "      <td>151</td>\n",
       "      <td>2018-09-03 19:27:00</td>\n",
       "      <td>2018</td>\n",
       "      <td>9</td>\n",
       "      <td>Monday</td>\n",
       "      <td>19</td>\n",
       "      <td>Part Three</td>\n",
       "      <td>CAZENOVE ST</td>\n",
       "      <td>42.346589</td>\n",
       "      <td>-71.072429</td>\n",
       "      <td>(42.34658879, -71.07242943)</td>\n",
       "      <td>2018-09-03</td>\n",
       "      <td>19:27:00</td>\n",
       "      <td>2018-09</td>\n",
       "    </tr>\n",
       "    <tr>\n",
       "      <th>3</th>\n",
       "      <td>I182070940</td>\n",
       "      <td>3114</td>\n",
       "      <td>Investigate Property</td>\n",
       "      <td>INVESTIGATE PROPERTY</td>\n",
       "      <td>D4</td>\n",
       "      <td>272</td>\n",
       "      <td>2018-09-03 21:16:00</td>\n",
       "      <td>2018</td>\n",
       "      <td>9</td>\n",
       "      <td>Monday</td>\n",
       "      <td>21</td>\n",
       "      <td>Part Three</td>\n",
       "      <td>NEWCOMB ST</td>\n",
       "      <td>42.334182</td>\n",
       "      <td>-71.078664</td>\n",
       "      <td>(42.33418175, -71.07866441)</td>\n",
       "      <td>2018-09-03</td>\n",
       "      <td>21:16:00</td>\n",
       "      <td>2018-09</td>\n",
       "    </tr>\n",
       "    <tr>\n",
       "      <th>4</th>\n",
       "      <td>I182070938</td>\n",
       "      <td>3114</td>\n",
       "      <td>Investigate Property</td>\n",
       "      <td>INVESTIGATE PROPERTY</td>\n",
       "      <td>B3</td>\n",
       "      <td>421</td>\n",
       "      <td>2018-09-03 21:05:00</td>\n",
       "      <td>2018</td>\n",
       "      <td>9</td>\n",
       "      <td>Monday</td>\n",
       "      <td>21</td>\n",
       "      <td>Part Three</td>\n",
       "      <td>DELHI ST</td>\n",
       "      <td>42.275365</td>\n",
       "      <td>-71.090361</td>\n",
       "      <td>(42.27536542, -71.09036101)</td>\n",
       "      <td>2018-09-03</td>\n",
       "      <td>21:05:00</td>\n",
       "      <td>2018-09</td>\n",
       "    </tr>\n",
       "  </tbody>\n",
       "</table>\n",
       "</div>"
      ],
      "text/plain": [
       "  INCIDENT_NUMBER  OFFENSE_CODE    OFFENSE_CODE_GROUP   OFFENSE_DESCRIPTION  \\\n",
       "0      I182070945           619               Larceny    LARCENY ALL OTHERS   \n",
       "1      I182070943          1402             Vandalism             VANDALISM   \n",
       "2      I182070941          3410                 Towed   TOWED MOTOR VEHICLE   \n",
       "3      I182070940          3114  Investigate Property  INVESTIGATE PROPERTY   \n",
       "4      I182070938          3114  Investigate Property  INVESTIGATE PROPERTY   \n",
       "\n",
       "  DISTRICT REPORTING_AREA    OCCURRED_ON_DATE  YEAR  MONTH DAY_OF_WEEK  HOUR  \\\n",
       "0      D14            808 2018-09-02 13:00:00  2018      9      Sunday    13   \n",
       "1      C11            347 2018-08-21 00:00:00  2018      8     Tuesday     0   \n",
       "2       D4            151 2018-09-03 19:27:00  2018      9      Monday    19   \n",
       "3       D4            272 2018-09-03 21:16:00  2018      9      Monday    21   \n",
       "4       B3            421 2018-09-03 21:05:00  2018      9      Monday    21   \n",
       "\n",
       "     UCR_PART       STREET        Lat       Long                     Location  \\\n",
       "0    Part One   LINCOLN ST  42.357791 -71.139371  (42.35779134, -71.13937053)   \n",
       "1    Part Two     HECLA ST  42.306821 -71.060300  (42.30682138, -71.06030035)   \n",
       "2  Part Three  CAZENOVE ST  42.346589 -71.072429  (42.34658879, -71.07242943)   \n",
       "3  Part Three   NEWCOMB ST  42.334182 -71.078664  (42.33418175, -71.07866441)   \n",
       "4  Part Three     DELHI ST  42.275365 -71.090361  (42.27536542, -71.09036101)   \n",
       "\n",
       "         DATE      TIME YEAR_MONTH  \n",
       "0  2018-09-02  13:00:00    2018-09  \n",
       "1  2018-08-21  00:00:00    2018-08  \n",
       "2  2018-09-03  19:27:00    2018-09  \n",
       "3  2018-09-03  21:16:00    2018-09  \n",
       "4  2018-09-03  21:05:00    2018-09  "
      ]
     },
     "execution_count": 26,
     "metadata": {},
     "output_type": "execute_result"
    }
   ],
   "source": [
    "# display the updated dataframe\n",
    "crimedf.head()"
   ]
  },
  {
   "cell_type": "code",
   "execution_count": 27,
   "metadata": {},
   "outputs": [],
   "source": [
    "# get the number of crimes for each month.\n",
    "crime_count_by_month = pd.DataFrame(crimedf.groupby(['YEAR_MONTH']).size().rename('COUNT').reset_index())"
   ]
  },
  {
   "cell_type": "code",
   "execution_count": 28,
   "metadata": {},
   "outputs": [
    {
     "data": {
      "text/html": [
       "<div>\n",
       "<style scoped>\n",
       "    .dataframe tbody tr th:only-of-type {\n",
       "        vertical-align: middle;\n",
       "    }\n",
       "\n",
       "    .dataframe tbody tr th {\n",
       "        vertical-align: top;\n",
       "    }\n",
       "\n",
       "    .dataframe thead th {\n",
       "        text-align: right;\n",
       "    }\n",
       "</style>\n",
       "<table border=\"1\" class=\"dataframe\">\n",
       "  <thead>\n",
       "    <tr style=\"text-align: right;\">\n",
       "      <th></th>\n",
       "      <th>YEAR_MONTH</th>\n",
       "      <th>COUNT</th>\n",
       "    </tr>\n",
       "  </thead>\n",
       "  <tbody>\n",
       "    <tr>\n",
       "      <th>0</th>\n",
       "      <td>2015-06</td>\n",
       "      <td>4060</td>\n",
       "    </tr>\n",
       "    <tr>\n",
       "      <th>1</th>\n",
       "      <td>2015-07</td>\n",
       "      <td>8033</td>\n",
       "    </tr>\n",
       "    <tr>\n",
       "      <th>2</th>\n",
       "      <td>2015-08</td>\n",
       "      <td>8025</td>\n",
       "    </tr>\n",
       "    <tr>\n",
       "      <th>3</th>\n",
       "      <td>2015-09</td>\n",
       "      <td>8046</td>\n",
       "    </tr>\n",
       "    <tr>\n",
       "      <th>4</th>\n",
       "      <td>2015-10</td>\n",
       "      <td>7957</td>\n",
       "    </tr>\n",
       "  </tbody>\n",
       "</table>\n",
       "</div>"
      ],
      "text/plain": [
       "  YEAR_MONTH  COUNT\n",
       "0    2015-06   4060\n",
       "1    2015-07   8033\n",
       "2    2015-08   8025\n",
       "3    2015-09   8046\n",
       "4    2015-10   7957"
      ]
     },
     "execution_count": 28,
     "metadata": {},
     "output_type": "execute_result"
    }
   ],
   "source": [
    "# display the dataframe\n",
    "crime_count_by_month.head()"
   ]
  },
  {
   "cell_type": "code",
   "execution_count": 29,
   "metadata": {},
   "outputs": [
    {
     "data": {
      "text/plain": [
       "[Text(0,0,'2015-06'),\n",
       " Text(0,0,'2015-07'),\n",
       " Text(0,0,'2015-08'),\n",
       " Text(0,0,'2015-09'),\n",
       " Text(0,0,'2015-10'),\n",
       " Text(0,0,'2015-11'),\n",
       " Text(0,0,'2015-12'),\n",
       " Text(0,0,'2016-01'),\n",
       " Text(0,0,'2016-02'),\n",
       " Text(0,0,'2016-03'),\n",
       " Text(0,0,'2016-04'),\n",
       " Text(0,0,'2016-05'),\n",
       " Text(0,0,'2016-06'),\n",
       " Text(0,0,'2016-07'),\n",
       " Text(0,0,'2016-08'),\n",
       " Text(0,0,'2016-09'),\n",
       " Text(0,0,'2016-10'),\n",
       " Text(0,0,'2016-11'),\n",
       " Text(0,0,'2016-12'),\n",
       " Text(0,0,'2017-01'),\n",
       " Text(0,0,'2017-02'),\n",
       " Text(0,0,'2017-03'),\n",
       " Text(0,0,'2017-04'),\n",
       " Text(0,0,'2017-05'),\n",
       " Text(0,0,'2017-06'),\n",
       " Text(0,0,'2017-07'),\n",
       " Text(0,0,'2017-08'),\n",
       " Text(0,0,'2017-09'),\n",
       " Text(0,0,'2017-10'),\n",
       " Text(0,0,'2017-11'),\n",
       " Text(0,0,'2017-12'),\n",
       " Text(0,0,'2018-01'),\n",
       " Text(0,0,'2018-02'),\n",
       " Text(0,0,'2018-03'),\n",
       " Text(0,0,'2018-04'),\n",
       " Text(0,0,'2018-05'),\n",
       " Text(0,0,'2018-06'),\n",
       " Text(0,0,'2018-07'),\n",
       " Text(0,0,'2018-08'),\n",
       " Text(0,0,'2018-09')]"
      ]
     },
     "execution_count": 29,
     "metadata": {},
     "output_type": "execute_result"
    },
    {
     "data": {
      "image/png": "[encoded data removed]",
      "text/plain": [
       "<matplotlib.figure.Figure at 0x26341cb4e10>"
      ]
     },
     "metadata": {},
     "output_type": "display_data"
    }
   ],
   "source": [
    "# create the matplotlib figure\n",
    "fig, ax = plt.subplots(figsize=(20, 6))\n",
    "\n",
    "# plot the graph of number of crimes vs. Month\n",
    "barplot2 = sns.barplot(x=\"YEAR_MONTH\", y=\"COUNT\", data=crime_count_by_month, color=\"g\")\n",
    "# set the axis labels\n",
    "ax.set(ylabel=\"Number of Crimes\", xlabel=\"Month\")\n",
    "# rotate xticklabels\n",
    "barplot2.set_xticklabels(barplot2.get_xticklabels(),\n",
    "                        rotation=90,\n",
    "                        horizontalalignment='right',\n",
    "                        fontweight='light',\n",
    "                        fontsize='x-large'\n",
    "                        )"
   ]
  },
  {
   "cell_type": "code",
   "execution_count": 30,
   "metadata": {},
   "outputs": [
    {
     "data": {
      "image/png": "[encoded data removed]",
      "text/plain": [
       "<matplotlib.figure.Figure at 0x263417e4b70>"
      ]
     },
     "metadata": {},
     "output_type": "display_data"
    }
   ],
   "source": [
    "# plot the line graph\n",
    "# Number of crimes for each month will be plotted\n",
    "lineplot2 = crime_count_by_month.plot.line(x=\"YEAR_MONTH\", y=\"COUNT\", figsize=(15, 6))"
   ]
  },
  {
   "cell_type": "markdown",
   "metadata": {},
   "source": [
    "### Yearly Crime Count"
   ]
  },
  {
   "cell_type": "code",
   "execution_count": 31,
   "metadata": {},
   "outputs": [],
   "source": [
    "# get the number of crimes for each year\n",
    "crime_count_by_year = pd.DataFrame(crimedf.groupby('YEAR').size().rename('COUNT').reset_index())"
   ]
  },
  {
   "cell_type": "code",
   "execution_count": 32,
   "metadata": {},
   "outputs": [
    {
     "data": {
      "text/html": [
       "<div>\n",
       "<style scoped>\n",
       "    .dataframe tbody tr th:only-of-type {\n",
       "        vertical-align: middle;\n",
       "    }\n",
       "\n",
       "    .dataframe tbody tr th {\n",
       "        vertical-align: top;\n",
       "    }\n",
       "\n",
       "    .dataframe thead th {\n",
       "        text-align: right;\n",
       "    }\n",
       "</style>\n",
       "<table border=\"1\" class=\"dataframe\">\n",
       "  <thead>\n",
       "    <tr style=\"text-align: right;\">\n",
       "      <th></th>\n",
       "      <th>YEAR</th>\n",
       "      <th>COUNT</th>\n",
       "    </tr>\n",
       "  </thead>\n",
       "  <tbody>\n",
       "    <tr>\n",
       "      <th>0</th>\n",
       "      <td>2015</td>\n",
       "      <td>51187</td>\n",
       "    </tr>\n",
       "    <tr>\n",
       "      <th>1</th>\n",
       "      <td>2016</td>\n",
       "      <td>91545</td>\n",
       "    </tr>\n",
       "    <tr>\n",
       "      <th>2</th>\n",
       "      <td>2017</td>\n",
       "      <td>93097</td>\n",
       "    </tr>\n",
       "    <tr>\n",
       "      <th>3</th>\n",
       "      <td>2018</td>\n",
       "      <td>60744</td>\n",
       "    </tr>\n",
       "  </tbody>\n",
       "</table>\n",
       "</div>"
      ],
      "text/plain": [
       "   YEAR  COUNT\n",
       "0  2015  51187\n",
       "1  2016  91545\n",
       "2  2017  93097\n",
       "3  2018  60744"
      ]
     },
     "execution_count": 32,
     "metadata": {},
     "output_type": "execute_result"
    }
   ],
   "source": [
    "# display the dataframe\n",
    "crime_count_by_year.head()"
   ]
  },
  {
   "cell_type": "code",
   "execution_count": 33,
   "metadata": {},
   "outputs": [
    {
     "data": {
      "text/plain": [
       "[Text(0,0,'2015'), Text(0,0,'2016'), Text(0,0,'2017'), Text(0,0,'2018')]"
      ]
     },
     "execution_count": 33,
     "metadata": {},
     "output_type": "execute_result"
    },
    {
     "data": {
      "image/png": "[encoded data removed]",
      "text/plain": [
       "<matplotlib.figure.Figure at 0x26345bb05f8>"
      ]
     },
     "metadata": {},
     "output_type": "display_data"
    }
   ],
   "source": [
    "# create the matplotlib figure\n",
    "fig, ax = plt.subplots(figsize=(8, 5))\n",
    "\n",
    "# plot the graph of number of crimes vs. year\n",
    "barplot3 = sns.barplot(x=\"YEAR\", y=\"COUNT\", data=crime_count_by_year, color=\"g\")\n",
    "# set the axis labels\n",
    "ax.set(ylabel=\"Number of Crimes\", xlabel=\"Year\")\n",
    "# rotate xticklabels\n",
    "barplot3.set_xticklabels(barplot3.get_xticklabels(),\n",
    "                        rotation=45,\n",
    "                        horizontalalignment='right',\n",
    "                        fontweight='light',\n",
    "                        fontsize='x-large'\n",
    "                        )"
   ]
  },
  {
   "cell_type": "code",
   "execution_count": 34,
   "metadata": {
    "scrolled": false
   },
   "outputs": [
    {
     "data": {
      "image/png": "[encoded data removed]",
      "text/plain": [
       "<matplotlib.figure.Figure at 0x26345ba3f60>"
      ]
     },
     "metadata": {},
     "output_type": "display_data"
    }
   ],
   "source": [
    "# plot the line graph in order to observe the pattern\n",
    "# Number of crimes for each year will be plotted\n",
    "lineplot3 = crime_count_by_year.plot.line(x=\"YEAR\", y=\"COUNT\", figsize=(12, 6))"
   ]
  }
 ],
 "metadata": {
  "kernelspec": {
   "display_name": "Python 3",
   "language": "python",
   "name": "python3"
  },
  "language_info": {
   "codemirror_mode": {
    "name": "ipython",
    "version": 3
   },
   "file_extension": ".py",
   "mimetype": "text/x-python",
   "name": "python",
   "nbconvert_exporter": "python",
   "pygments_lexer": "ipython3",
   "version": "3.6.4"
  }
 },
 "nbformat": 4,
 "nbformat_minor": 2
}
