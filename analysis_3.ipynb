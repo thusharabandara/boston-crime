{
 "cells": [
  {
   "cell_type": "code",
   "execution_count": 1,
   "metadata": {},
   "outputs": [],
   "source": [
    "# import relevant libraries\n",
    "import pandas as pd"
   ]
  },
  {
   "cell_type": "code",
   "execution_count": 2,
   "metadata": {},
   "outputs": [],
   "source": [
    "import warnings\n",
    "warnings.filterwarnings('ignore')"
   ]
  },
  {
   "cell_type": "code",
   "execution_count": 3,
   "metadata": {},
   "outputs": [],
   "source": [
    "# load data into a pandas dataframe\n",
    "crime_df = pd.read_csv(\"dataset/crime.csv\", encoding = \"ISO-8859-1\")"
   ]
  },
  {
   "cell_type": "code",
   "execution_count": 4,
   "metadata": {},
   "outputs": [
    {
     "data": {
      "text/plain": [
       "(319073, 17)"
      ]
     },
     "execution_count": 4,
     "metadata": {},
     "output_type": "execute_result"
    }
   ],
   "source": [
    "# get the dimension of the dataframe\n",
    "crime_df.shape"
   ]
  },
  {
   "cell_type": "code",
   "execution_count": 5,
   "metadata": {},
   "outputs": [
    {
     "data": {
      "text/plain": [
       "Index(['INCIDENT_NUMBER', 'OFFENSE_CODE', 'OFFENSE_CODE_GROUP',\n",
       "       'OFFENSE_DESCRIPTION', 'DISTRICT', 'REPORTING_AREA', 'SHOOTING',\n",
       "       'OCCURRED_ON_DATE', 'YEAR', 'MONTH', 'DAY_OF_WEEK', 'HOUR', 'UCR_PART',\n",
       "       'STREET', 'Lat', 'Long', 'Location'],\n",
       "      dtype='object')"
      ]
     },
     "execution_count": 5,
     "metadata": {},
     "output_type": "execute_result"
    }
   ],
   "source": [
    "# get the fields\n",
    "crime_df.columns"
   ]
  },
  {
   "cell_type": "code",
   "execution_count": 6,
   "metadata": {},
   "outputs": [
    {
     "name": "stdout",
     "output_type": "stream",
     "text": [
      "<class 'pandas.core.frame.DataFrame'>\n",
      "RangeIndex: 319073 entries, 0 to 319072\n",
      "Data columns (total 17 columns):\n",
      "INCIDENT_NUMBER        319073 non-null object\n",
      "OFFENSE_CODE           319073 non-null int64\n",
      "OFFENSE_CODE_GROUP     319073 non-null object\n",
      "OFFENSE_DESCRIPTION    319073 non-null object\n",
      "DISTRICT               317308 non-null object\n",
      "REPORTING_AREA         319073 non-null object\n",
      "SHOOTING               1019 non-null object\n",
      "OCCURRED_ON_DATE       319073 non-null object\n",
      "YEAR                   319073 non-null int64\n",
      "MONTH                  319073 non-null int64\n",
      "DAY_OF_WEEK            319073 non-null object\n",
      "HOUR                   319073 non-null int64\n",
      "UCR_PART               318983 non-null object\n",
      "STREET                 308202 non-null object\n",
      "Lat                    299074 non-null float64\n",
      "Long                   299074 non-null float64\n",
      "Location               319073 non-null object\n",
      "dtypes: float64(2), int64(4), object(11)\n",
      "memory usage: 41.4+ MB\n"
     ]
    }
   ],
   "source": [
    "# get the information about the dataframe\n",
    "crime_df.info()"
   ]
  },
  {
   "cell_type": "code",
   "execution_count": 7,
   "metadata": {},
   "outputs": [
    {
     "data": {
      "text/plain": [
       "True"
      ]
     },
     "execution_count": 7,
     "metadata": {},
     "output_type": "execute_result"
    }
   ],
   "source": [
    "# check if the data contains NULL values\n",
    "crime_df.isnull().sum().any()\n",
    "# True, meaning there are NULL values"
   ]
  },
  {
   "cell_type": "code",
   "execution_count": 8,
   "metadata": {},
   "outputs": [
    {
     "data": {
      "text/plain": [
       "Y    1019\n",
       "Name: SHOOTING, dtype: int64"
      ]
     },
     "execution_count": 8,
     "metadata": {},
     "output_type": "execute_result"
    }
   ],
   "source": [
    "# get the value count of 'SHOOTING' column\n",
    "crime_df['SHOOTING'].value_counts()"
   ]
  },
  {
   "cell_type": "code",
   "execution_count": 9,
   "metadata": {},
   "outputs": [],
   "source": [
    "# drop a column from the dataframe\n",
    "updated_crimedf = crime_df.drop(['SHOOTING'], axis=1)"
   ]
  },
  {
   "cell_type": "code",
   "execution_count": 10,
   "metadata": {},
   "outputs": [
    {
     "data": {
      "text/plain": [
       "Index(['INCIDENT_NUMBER', 'OFFENSE_CODE', 'OFFENSE_CODE_GROUP',\n",
       "       'OFFENSE_DESCRIPTION', 'DISTRICT', 'REPORTING_AREA', 'OCCURRED_ON_DATE',\n",
       "       'YEAR', 'MONTH', 'DAY_OF_WEEK', 'HOUR', 'UCR_PART', 'STREET', 'Lat',\n",
       "       'Long', 'Location'],\n",
       "      dtype='object')"
      ]
     },
     "execution_count": 10,
     "metadata": {},
     "output_type": "execute_result"
    }
   ],
   "source": [
    "# check columns\n",
    "updated_crimedf.columns"
   ]
  },
  {
   "cell_type": "code",
   "execution_count": 11,
   "metadata": {},
   "outputs": [],
   "source": [
    "# drop the rows where at least one element is missing\n",
    "cleaned_crimedf = updated_crimedf.dropna()"
   ]
  },
  {
   "cell_type": "code",
   "execution_count": 12,
   "metadata": {},
   "outputs": [
    {
     "data": {
      "text/plain": [
       "(296573, 16)"
      ]
     },
     "execution_count": 12,
     "metadata": {},
     "output_type": "execute_result"
    }
   ],
   "source": [
    "# check the new dimension of the dataframe\n",
    "cleaned_crimedf.shape"
   ]
  },
  {
   "cell_type": "code",
   "execution_count": 13,
   "metadata": {},
   "outputs": [],
   "source": [
    "# import datetime\n",
    "from datetime import datetime\n",
    "\n",
    "# convert string to timestamp\n",
    "cleaned_crimedf[\"OCCURRED_ON_DATE\"] = cleaned_crimedf[\"OCCURRED_ON_DATE\"].apply(lambda x: \\\n",
    "    datetime.strptime(x,\"%Y-%m-%d %H:%M:%S\"))"
   ]
  },
  {
   "cell_type": "code",
   "execution_count": 14,
   "metadata": {},
   "outputs": [],
   "source": [
    "# split OCCURRED_ON_DATE into date and time\n",
    "cleaned_crimedf['DATE'] = [d.date() for d in cleaned_crimedf['OCCURRED_ON_DATE']]\n",
    "cleaned_crimedf['TIME'] = [d.time() for d in cleaned_crimedf['OCCURRED_ON_DATE']]"
   ]
  },
  {
   "cell_type": "code",
   "execution_count": 15,
   "metadata": {},
   "outputs": [
    {
     "data": {
      "text/html": [
       "<div>\n",
       "<style scoped>\n",
       "    .dataframe tbody tr th:only-of-type {\n",
       "        vertical-align: middle;\n",
       "    }\n",
       "\n",
       "    .dataframe tbody tr th {\n",
       "        vertical-align: top;\n",
       "    }\n",
       "\n",
       "    .dataframe thead th {\n",
       "        text-align: right;\n",
       "    }\n",
       "</style>\n",
       "<table border=\"1\" class=\"dataframe\">\n",
       "  <thead>\n",
       "    <tr style=\"text-align: right;\">\n",
       "      <th></th>\n",
       "      <th>INCIDENT_NUMBER</th>\n",
       "      <th>OFFENSE_CODE</th>\n",
       "      <th>OFFENSE_CODE_GROUP</th>\n",
       "      <th>OFFENSE_DESCRIPTION</th>\n",
       "      <th>DISTRICT</th>\n",
       "      <th>REPORTING_AREA</th>\n",
       "      <th>OCCURRED_ON_DATE</th>\n",
       "      <th>YEAR</th>\n",
       "      <th>MONTH</th>\n",
       "      <th>DAY_OF_WEEK</th>\n",
       "      <th>HOUR</th>\n",
       "      <th>UCR_PART</th>\n",
       "      <th>STREET</th>\n",
       "      <th>Lat</th>\n",
       "      <th>Long</th>\n",
       "      <th>Location</th>\n",
       "      <th>DATE</th>\n",
       "      <th>TIME</th>\n",
       "    </tr>\n",
       "  </thead>\n",
       "  <tbody>\n",
       "    <tr>\n",
       "      <th>0</th>\n",
       "      <td>I182070945</td>\n",
       "      <td>619</td>\n",
       "      <td>Larceny</td>\n",
       "      <td>LARCENY ALL OTHERS</td>\n",
       "      <td>D14</td>\n",
       "      <td>808</td>\n",
       "      <td>2018-09-02 13:00:00</td>\n",
       "      <td>2018</td>\n",
       "      <td>9</td>\n",
       "      <td>Sunday</td>\n",
       "      <td>13</td>\n",
       "      <td>Part One</td>\n",
       "      <td>LINCOLN ST</td>\n",
       "      <td>42.357791</td>\n",
       "      <td>-71.139371</td>\n",
       "      <td>(42.35779134, -71.13937053)</td>\n",
       "      <td>2018-09-02</td>\n",
       "      <td>13:00:00</td>\n",
       "    </tr>\n",
       "    <tr>\n",
       "      <th>1</th>\n",
       "      <td>I182070943</td>\n",
       "      <td>1402</td>\n",
       "      <td>Vandalism</td>\n",
       "      <td>VANDALISM</td>\n",
       "      <td>C11</td>\n",
       "      <td>347</td>\n",
       "      <td>2018-08-21 00:00:00</td>\n",
       "      <td>2018</td>\n",
       "      <td>8</td>\n",
       "      <td>Tuesday</td>\n",
       "      <td>0</td>\n",
       "      <td>Part Two</td>\n",
       "      <td>HECLA ST</td>\n",
       "      <td>42.306821</td>\n",
       "      <td>-71.060300</td>\n",
       "      <td>(42.30682138, -71.06030035)</td>\n",
       "      <td>2018-08-21</td>\n",
       "      <td>00:00:00</td>\n",
       "    </tr>\n",
       "    <tr>\n",
       "      <th>2</th>\n",
       "      <td>I182070941</td>\n",
       "      <td>3410</td>\n",
       "      <td>Towed</td>\n",
       "      <td>TOWED MOTOR VEHICLE</td>\n",
       "      <td>D4</td>\n",
       "      <td>151</td>\n",
       "      <td>2018-09-03 19:27:00</td>\n",
       "      <td>2018</td>\n",
       "      <td>9</td>\n",
       "      <td>Monday</td>\n",
       "      <td>19</td>\n",
       "      <td>Part Three</td>\n",
       "      <td>CAZENOVE ST</td>\n",
       "      <td>42.346589</td>\n",
       "      <td>-71.072429</td>\n",
       "      <td>(42.34658879, -71.07242943)</td>\n",
       "      <td>2018-09-03</td>\n",
       "      <td>19:27:00</td>\n",
       "    </tr>\n",
       "    <tr>\n",
       "      <th>3</th>\n",
       "      <td>I182070940</td>\n",
       "      <td>3114</td>\n",
       "      <td>Investigate Property</td>\n",
       "      <td>INVESTIGATE PROPERTY</td>\n",
       "      <td>D4</td>\n",
       "      <td>272</td>\n",
       "      <td>2018-09-03 21:16:00</td>\n",
       "      <td>2018</td>\n",
       "      <td>9</td>\n",
       "      <td>Monday</td>\n",
       "      <td>21</td>\n",
       "      <td>Part Three</td>\n",
       "      <td>NEWCOMB ST</td>\n",
       "      <td>42.334182</td>\n",
       "      <td>-71.078664</td>\n",
       "      <td>(42.33418175, -71.07866441)</td>\n",
       "      <td>2018-09-03</td>\n",
       "      <td>21:16:00</td>\n",
       "    </tr>\n",
       "    <tr>\n",
       "      <th>4</th>\n",
       "      <td>I182070938</td>\n",
       "      <td>3114</td>\n",
       "      <td>Investigate Property</td>\n",
       "      <td>INVESTIGATE PROPERTY</td>\n",
       "      <td>B3</td>\n",
       "      <td>421</td>\n",
       "      <td>2018-09-03 21:05:00</td>\n",
       "      <td>2018</td>\n",
       "      <td>9</td>\n",
       "      <td>Monday</td>\n",
       "      <td>21</td>\n",
       "      <td>Part Three</td>\n",
       "      <td>DELHI ST</td>\n",
       "      <td>42.275365</td>\n",
       "      <td>-71.090361</td>\n",
       "      <td>(42.27536542, -71.09036101)</td>\n",
       "      <td>2018-09-03</td>\n",
       "      <td>21:05:00</td>\n",
       "    </tr>\n",
       "  </tbody>\n",
       "</table>\n",
       "</div>"
      ],
      "text/plain": [
       "  INCIDENT_NUMBER  OFFENSE_CODE    OFFENSE_CODE_GROUP   OFFENSE_DESCRIPTION  \\\n",
       "0      I182070945           619               Larceny    LARCENY ALL OTHERS   \n",
       "1      I182070943          1402             Vandalism             VANDALISM   \n",
       "2      I182070941          3410                 Towed   TOWED MOTOR VEHICLE   \n",
       "3      I182070940          3114  Investigate Property  INVESTIGATE PROPERTY   \n",
       "4      I182070938          3114  Investigate Property  INVESTIGATE PROPERTY   \n",
       "\n",
       "  DISTRICT REPORTING_AREA    OCCURRED_ON_DATE  YEAR  MONTH DAY_OF_WEEK  HOUR  \\\n",
       "0      D14            808 2018-09-02 13:00:00  2018      9      Sunday    13   \n",
       "1      C11            347 2018-08-21 00:00:00  2018      8     Tuesday     0   \n",
       "2       D4            151 2018-09-03 19:27:00  2018      9      Monday    19   \n",
       "3       D4            272 2018-09-03 21:16:00  2018      9      Monday    21   \n",
       "4       B3            421 2018-09-03 21:05:00  2018      9      Monday    21   \n",
       "\n",
       "     UCR_PART       STREET        Lat       Long                     Location  \\\n",
       "0    Part One   LINCOLN ST  42.357791 -71.139371  (42.35779134, -71.13937053)   \n",
       "1    Part Two     HECLA ST  42.306821 -71.060300  (42.30682138, -71.06030035)   \n",
       "2  Part Three  CAZENOVE ST  42.346589 -71.072429  (42.34658879, -71.07242943)   \n",
       "3  Part Three   NEWCOMB ST  42.334182 -71.078664  (42.33418175, -71.07866441)   \n",
       "4  Part Three     DELHI ST  42.275365 -71.090361  (42.27536542, -71.09036101)   \n",
       "\n",
       "         DATE      TIME  \n",
       "0  2018-09-02  13:00:00  \n",
       "1  2018-08-21  00:00:00  \n",
       "2  2018-09-03  19:27:00  \n",
       "3  2018-09-03  21:16:00  \n",
       "4  2018-09-03  21:05:00  "
      ]
     },
     "execution_count": 15,
     "metadata": {},
     "output_type": "execute_result"
    }
   ],
   "source": [
    "# display first five fields\n",
    "cleaned_crimedf.head()"
   ]
  },
  {
   "cell_type": "code",
   "execution_count": 16,
   "metadata": {},
   "outputs": [],
   "source": [
    "crimedf = cleaned_crimedf"
   ]
  },
  {
   "cell_type": "code",
   "execution_count": 17,
   "metadata": {},
   "outputs": [],
   "source": [
    "# frequency count of Date\n",
    "count = crimedf['DATE'].value_counts()"
   ]
  },
  {
   "cell_type": "code",
   "execution_count": 26,
   "metadata": {},
   "outputs": [],
   "source": [
    "# import relevant libraries\n",
    "import numpy as np\n",
    "import matplotlib.pyplot as plt\n",
    "from mpl_toolkits.basemap import Basemap"
   ]
  },
  {
   "cell_type": "code",
   "execution_count": 33,
   "metadata": {},
   "outputs": [],
   "source": [
    "# Extract the data we're interested in\n",
    "lat = crimedf['Lat'].values\n",
    "lon = crimedf['Long'].values\n",
    "count = crimedf.groupby(['Lat','Long'])['INCIDENT_NUMBER'].size()"
   ]
  },
  {
   "cell_type": "code",
   "execution_count": 34,
   "metadata": {},
   "outputs": [
    {
     "data": {
      "text/plain": [
       "Lat         Long      \n",
       "-1.000000   -1.000000     152\n",
       " 42.232413  -71.129715     10\n",
       " 42.232656  -71.130700      2\n",
       " 42.232870  -71.130050      5\n",
       " 42.232907  -71.131671      3\n",
       " 42.233086  -71.128157     12\n",
       " 42.233121  -71.131027      2\n",
       " 42.233157  -71.132654      6\n",
       " 42.233342  -71.133688      5\n",
       " 42.233372  -71.132004      6\n",
       " 42.233470  -71.138630      1\n",
       " 42.233574  -71.129177      3\n",
       " 42.233581  -71.134538      1\n",
       " 42.233626  -71.132993      1\n",
       " 42.233713  -71.131298      4\n",
       " 42.233754  -71.133493      1\n",
       " 42.233823  -71.130157      8\n",
       " 42.233961  -71.132284      1\n",
       " 42.234051  -71.138829     18\n",
       " 42.234217  -71.133277      5\n",
       " 42.234291  -71.128342      2\n",
       " 42.234302  -71.131581      1\n",
       " 42.234528  -71.129284      1\n",
       " 42.234543  -71.130915      2\n",
       " 42.234553  -71.132569      1\n",
       " 42.234778  -71.130257      4\n",
       " 42.234801  -71.133965      5\n",
       " 42.234835  -71.127736      7\n",
       " 42.234902  -71.137910     18\n",
       " 42.234963  -71.129623      1\n",
       "                         ... \n",
       " 42.390348  -70.998496      2\n",
       " 42.390353  -71.005191     34\n",
       " 42.390491  -71.070403      8\n",
       " 42.390730  -71.004986      5\n",
       " 42.390889  -71.012590      4\n",
       " 42.390890  -71.008105     21\n",
       " 42.391097  -71.003940     13\n",
       " 42.391120  -71.002297     25\n",
       " 42.391226  -71.006261      1\n",
       " 42.391463  -71.001342     57\n",
       " 42.391473  -71.013062      5\n",
       " 42.391491  -71.008006      3\n",
       " 42.391666  -71.010428      8\n",
       " 42.391933  -70.995362      1\n",
       " 42.392139  -71.005811      4\n",
       " 42.392146  -71.008939    105\n",
       " 42.392153  -71.006774      1\n",
       " 42.392430  -71.068945     15\n",
       " 42.392486  -71.005357      3\n",
       " 42.392697  -71.008424    101\n",
       " 42.392740  -71.004791     12\n",
       " 42.392839  -71.005982      2\n",
       " 42.392898  -71.010804      1\n",
       " 42.393273  -71.007939     52\n",
       " 42.393482  -71.010682     14\n",
       " 42.393518  -71.011405     13\n",
       " 42.393529  -71.011582     79\n",
       " 42.394073  -71.010964      2\n",
       " 42.394213  -71.067413      8\n",
       " 42.395042  -71.010177     29\n",
       "Name: INCIDENT_NUMBER, Length: 17776, dtype: int64"
      ]
     },
     "execution_count": 34,
     "metadata": {},
     "output_type": "execute_result"
    }
   ],
   "source": [
    "count"
   ]
  },
  {
   "cell_type": "code",
   "execution_count": null,
   "metadata": {},
   "outputs": [],
   "source": [
    "fig = plt.figure(figsize=(8, 8))\n",
    "m = Basemap(projection='lcc', resolution='h', \n",
    "            lat_0=42.3601, lon_0=71.0589,\n",
    "            width=1E6, height=1.2E6)\n",
    "m.shadedrelief()\n",
    "m.drawcoastlines(color='gray')\n",
    "m.drawcountries(color='gray')\n",
    "m.drawstates(color='gray')"
   ]
  },
  {
   "cell_type": "code",
   "execution_count": null,
   "metadata": {},
   "outputs": [],
   "source": []
  }
 ],
 "metadata": {
  "kernelspec": {
   "display_name": "Python 3",
   "language": "python",
   "name": "python3"
  },
  "language_info": {
   "codemirror_mode": {
    "name": "ipython",
    "version": 3
   },
   "file_extension": ".py",
   "mimetype": "text/x-python",
   "name": "python",
   "nbconvert_exporter": "python",
   "pygments_lexer": "ipython3",
   "version": "3.6.4"
  }
 },
 "nbformat": 4,
 "nbformat_minor": 2
}
