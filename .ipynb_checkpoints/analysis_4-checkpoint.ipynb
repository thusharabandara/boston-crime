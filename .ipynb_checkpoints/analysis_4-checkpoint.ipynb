{
 "cells": [
  {
   "cell_type": "code",
   "execution_count": 1,
   "metadata": {},
   "outputs": [],
   "source": [
    "# import relevant libraries\n",
    "import pandas as pd"
   ]
  },
  {
   "cell_type": "code",
   "execution_count": 2,
   "metadata": {},
   "outputs": [],
   "source": [
    "import warnings\n",
    "warnings.filterwarnings('ignore')"
   ]
  },
  {
   "cell_type": "code",
   "execution_count": 3,
   "metadata": {},
   "outputs": [],
   "source": [
    "# load data into a pandas dataframe\n",
    "crime_df = pd.read_csv(\"dataset/crime.csv\", encoding = \"ISO-8859-1\")"
   ]
  },
  {
   "cell_type": "code",
   "execution_count": 4,
   "metadata": {},
   "outputs": [
    {
     "data": {
      "text/plain": [
       "(319073, 17)"
      ]
     },
     "execution_count": 4,
     "metadata": {},
     "output_type": "execute_result"
    }
   ],
   "source": [
    "# get the dimension of the dataframe\n",
    "crime_df.shape"
   ]
  },
  {
   "cell_type": "code",
   "execution_count": 5,
   "metadata": {},
   "outputs": [
    {
     "data": {
      "text/plain": [
       "Index(['INCIDENT_NUMBER', 'OFFENSE_CODE', 'OFFENSE_CODE_GROUP',\n",
       "       'OFFENSE_DESCRIPTION', 'DISTRICT', 'REPORTING_AREA', 'SHOOTING',\n",
       "       'OCCURRED_ON_DATE', 'YEAR', 'MONTH', 'DAY_OF_WEEK', 'HOUR', 'UCR_PART',\n",
       "       'STREET', 'Lat', 'Long', 'Location'],\n",
       "      dtype='object')"
      ]
     },
     "execution_count": 5,
     "metadata": {},
     "output_type": "execute_result"
    }
   ],
   "source": [
    "# get the fields\n",
    "crime_df.columns"
   ]
  },
  {
   "cell_type": "code",
   "execution_count": 6,
   "metadata": {},
   "outputs": [
    {
     "name": "stdout",
     "output_type": "stream",
     "text": [
      "<class 'pandas.core.frame.DataFrame'>\n",
      "RangeIndex: 319073 entries, 0 to 319072\n",
      "Data columns (total 17 columns):\n",
      "INCIDENT_NUMBER        319073 non-null object\n",
      "OFFENSE_CODE           319073 non-null int64\n",
      "OFFENSE_CODE_GROUP     319073 non-null object\n",
      "OFFENSE_DESCRIPTION    319073 non-null object\n",
      "DISTRICT               317308 non-null object\n",
      "REPORTING_AREA         319073 non-null object\n",
      "SHOOTING               1019 non-null object\n",
      "OCCURRED_ON_DATE       319073 non-null object\n",
      "YEAR                   319073 non-null int64\n",
      "MONTH                  319073 non-null int64\n",
      "DAY_OF_WEEK            319073 non-null object\n",
      "HOUR                   319073 non-null int64\n",
      "UCR_PART               318983 non-null object\n",
      "STREET                 308202 non-null object\n",
      "Lat                    299074 non-null float64\n",
      "Long                   299074 non-null float64\n",
      "Location               319073 non-null object\n",
      "dtypes: float64(2), int64(4), object(11)\n",
      "memory usage: 41.4+ MB\n"
     ]
    }
   ],
   "source": [
    "# get the information about the dataframe\n",
    "crime_df.info()"
   ]
  },
  {
   "cell_type": "code",
   "execution_count": 7,
   "metadata": {},
   "outputs": [
    {
     "data": {
      "text/plain": [
       "True"
      ]
     },
     "execution_count": 7,
     "metadata": {},
     "output_type": "execute_result"
    }
   ],
   "source": [
    "# check if the data contains NULL values\n",
    "crime_df.isnull().sum().any()\n",
    "# True, meaning there are NULL values"
   ]
  },
  {
   "cell_type": "code",
   "execution_count": 8,
   "metadata": {},
   "outputs": [
    {
     "data": {
      "text/plain": [
       "Y    1019\n",
       "Name: SHOOTING, dtype: int64"
      ]
     },
     "execution_count": 8,
     "metadata": {},
     "output_type": "execute_result"
    }
   ],
   "source": [
    "# get the value count of 'SHOOTING' column\n",
    "crime_df['SHOOTING'].value_counts()"
   ]
  },
  {
   "cell_type": "code",
   "execution_count": 9,
   "metadata": {},
   "outputs": [],
   "source": [
    "# drop a column from the dataframe\n",
    "updated_crimedf = crime_df.drop(['SHOOTING'], axis=1)"
   ]
  },
  {
   "cell_type": "code",
   "execution_count": 10,
   "metadata": {},
   "outputs": [
    {
     "data": {
      "text/plain": [
       "Index(['INCIDENT_NUMBER', 'OFFENSE_CODE', 'OFFENSE_CODE_GROUP',\n",
       "       'OFFENSE_DESCRIPTION', 'DISTRICT', 'REPORTING_AREA', 'OCCURRED_ON_DATE',\n",
       "       'YEAR', 'MONTH', 'DAY_OF_WEEK', 'HOUR', 'UCR_PART', 'STREET', 'Lat',\n",
       "       'Long', 'Location'],\n",
       "      dtype='object')"
      ]
     },
     "execution_count": 10,
     "metadata": {},
     "output_type": "execute_result"
    }
   ],
   "source": [
    "# check columns\n",
    "updated_crimedf.columns"
   ]
  },
  {
   "cell_type": "code",
   "execution_count": 11,
   "metadata": {},
   "outputs": [],
   "source": [
    "# drop the rows where at least one element is missing\n",
    "cleaned_crimedf = updated_crimedf.dropna()"
   ]
  },
  {
   "cell_type": "code",
   "execution_count": 12,
   "metadata": {},
   "outputs": [
    {
     "data": {
      "text/plain": [
       "(296573, 16)"
      ]
     },
     "execution_count": 12,
     "metadata": {},
     "output_type": "execute_result"
    }
   ],
   "source": [
    "# check the new dimension of the dataframe\n",
    "cleaned_crimedf.shape"
   ]
  },
  {
   "cell_type": "code",
   "execution_count": 13,
   "metadata": {},
   "outputs": [],
   "source": [
    "# import datetime\n",
    "from datetime import datetime\n",
    "\n",
    "# convert string to timestamp\n",
    "cleaned_crimedf[\"OCCURRED_ON_DATE\"] = cleaned_crimedf[\"OCCURRED_ON_DATE\"].apply(lambda x: \\\n",
    "    datetime.strptime(x,\"%Y-%m-%d %H:%M:%S\"))"
   ]
  },
  {
   "cell_type": "code",
   "execution_count": 14,
   "metadata": {},
   "outputs": [],
   "source": [
    "# split OCCURRED_ON_DATE into date and time\n",
    "cleaned_crimedf['DATE'] = [d.date() for d in cleaned_crimedf['OCCURRED_ON_DATE']]\n",
    "cleaned_crimedf['TIME'] = [d.time() for d in cleaned_crimedf['OCCURRED_ON_DATE']]"
   ]
  },
  {
   "cell_type": "code",
   "execution_count": 15,
   "metadata": {},
   "outputs": [],
   "source": [
    "# Extract the Year-Month combination from the 'OCCURRED_ON_DATE' using 'dt.to_period' function.\n",
    "# Where 'D', 'M' and 'Y' are the inputs.\n",
    "# Here, 'OCCURRED_ON_DATE' should be in the datetime format.\n",
    "cleaned_crimedf['YEAR_MONTH'] = pd.to_datetime(cleaned_crimedf['OCCURRED_ON_DATE']).dt.to_period('M')"
   ]
  },
  {
   "cell_type": "code",
   "execution_count": 16,
   "metadata": {},
   "outputs": [
    {
     "data": {
      "text/html": [
       "<div>\n",
       "<style scoped>\n",
       "    .dataframe tbody tr th:only-of-type {\n",
       "        vertical-align: middle;\n",
       "    }\n",
       "\n",
       "    .dataframe tbody tr th {\n",
       "        vertical-align: top;\n",
       "    }\n",
       "\n",
       "    .dataframe thead th {\n",
       "        text-align: right;\n",
       "    }\n",
       "</style>\n",
       "<table border=\"1\" class=\"dataframe\">\n",
       "  <thead>\n",
       "    <tr style=\"text-align: right;\">\n",
       "      <th></th>\n",
       "      <th>INCIDENT_NUMBER</th>\n",
       "      <th>OFFENSE_CODE</th>\n",
       "      <th>OFFENSE_CODE_GROUP</th>\n",
       "      <th>OFFENSE_DESCRIPTION</th>\n",
       "      <th>DISTRICT</th>\n",
       "      <th>REPORTING_AREA</th>\n",
       "      <th>OCCURRED_ON_DATE</th>\n",
       "      <th>YEAR</th>\n",
       "      <th>MONTH</th>\n",
       "      <th>DAY_OF_WEEK</th>\n",
       "      <th>HOUR</th>\n",
       "      <th>UCR_PART</th>\n",
       "      <th>STREET</th>\n",
       "      <th>Lat</th>\n",
       "      <th>Long</th>\n",
       "      <th>Location</th>\n",
       "      <th>DATE</th>\n",
       "      <th>TIME</th>\n",
       "      <th>YEAR_MONTH</th>\n",
       "    </tr>\n",
       "  </thead>\n",
       "  <tbody>\n",
       "    <tr>\n",
       "      <td>0</td>\n",
       "      <td>I182070945</td>\n",
       "      <td>619</td>\n",
       "      <td>Larceny</td>\n",
       "      <td>LARCENY ALL OTHERS</td>\n",
       "      <td>D14</td>\n",
       "      <td>808</td>\n",
       "      <td>2018-09-02 13:00:00</td>\n",
       "      <td>2018</td>\n",
       "      <td>9</td>\n",
       "      <td>Sunday</td>\n",
       "      <td>13</td>\n",
       "      <td>Part One</td>\n",
       "      <td>LINCOLN ST</td>\n",
       "      <td>42.357791</td>\n",
       "      <td>-71.139371</td>\n",
       "      <td>(42.35779134, -71.13937053)</td>\n",
       "      <td>2018-09-02</td>\n",
       "      <td>13:00:00</td>\n",
       "      <td>2018-09</td>\n",
       "    </tr>\n",
       "    <tr>\n",
       "      <td>1</td>\n",
       "      <td>I182070943</td>\n",
       "      <td>1402</td>\n",
       "      <td>Vandalism</td>\n",
       "      <td>VANDALISM</td>\n",
       "      <td>C11</td>\n",
       "      <td>347</td>\n",
       "      <td>2018-08-21 00:00:00</td>\n",
       "      <td>2018</td>\n",
       "      <td>8</td>\n",
       "      <td>Tuesday</td>\n",
       "      <td>0</td>\n",
       "      <td>Part Two</td>\n",
       "      <td>HECLA ST</td>\n",
       "      <td>42.306821</td>\n",
       "      <td>-71.060300</td>\n",
       "      <td>(42.30682138, -71.06030035)</td>\n",
       "      <td>2018-08-21</td>\n",
       "      <td>00:00:00</td>\n",
       "      <td>2018-08</td>\n",
       "    </tr>\n",
       "    <tr>\n",
       "      <td>2</td>\n",
       "      <td>I182070941</td>\n",
       "      <td>3410</td>\n",
       "      <td>Towed</td>\n",
       "      <td>TOWED MOTOR VEHICLE</td>\n",
       "      <td>D4</td>\n",
       "      <td>151</td>\n",
       "      <td>2018-09-03 19:27:00</td>\n",
       "      <td>2018</td>\n",
       "      <td>9</td>\n",
       "      <td>Monday</td>\n",
       "      <td>19</td>\n",
       "      <td>Part Three</td>\n",
       "      <td>CAZENOVE ST</td>\n",
       "      <td>42.346589</td>\n",
       "      <td>-71.072429</td>\n",
       "      <td>(42.34658879, -71.07242943)</td>\n",
       "      <td>2018-09-03</td>\n",
       "      <td>19:27:00</td>\n",
       "      <td>2018-09</td>\n",
       "    </tr>\n",
       "    <tr>\n",
       "      <td>3</td>\n",
       "      <td>I182070940</td>\n",
       "      <td>3114</td>\n",
       "      <td>Investigate Property</td>\n",
       "      <td>INVESTIGATE PROPERTY</td>\n",
       "      <td>D4</td>\n",
       "      <td>272</td>\n",
       "      <td>2018-09-03 21:16:00</td>\n",
       "      <td>2018</td>\n",
       "      <td>9</td>\n",
       "      <td>Monday</td>\n",
       "      <td>21</td>\n",
       "      <td>Part Three</td>\n",
       "      <td>NEWCOMB ST</td>\n",
       "      <td>42.334182</td>\n",
       "      <td>-71.078664</td>\n",
       "      <td>(42.33418175, -71.07866441)</td>\n",
       "      <td>2018-09-03</td>\n",
       "      <td>21:16:00</td>\n",
       "      <td>2018-09</td>\n",
       "    </tr>\n",
       "    <tr>\n",
       "      <td>4</td>\n",
       "      <td>I182070938</td>\n",
       "      <td>3114</td>\n",
       "      <td>Investigate Property</td>\n",
       "      <td>INVESTIGATE PROPERTY</td>\n",
       "      <td>B3</td>\n",
       "      <td>421</td>\n",
       "      <td>2018-09-03 21:05:00</td>\n",
       "      <td>2018</td>\n",
       "      <td>9</td>\n",
       "      <td>Monday</td>\n",
       "      <td>21</td>\n",
       "      <td>Part Three</td>\n",
       "      <td>DELHI ST</td>\n",
       "      <td>42.275365</td>\n",
       "      <td>-71.090361</td>\n",
       "      <td>(42.27536542, -71.09036101)</td>\n",
       "      <td>2018-09-03</td>\n",
       "      <td>21:05:00</td>\n",
       "      <td>2018-09</td>\n",
       "    </tr>\n",
       "  </tbody>\n",
       "</table>\n",
       "</div>"
      ],
      "text/plain": [
       "  INCIDENT_NUMBER  OFFENSE_CODE    OFFENSE_CODE_GROUP   OFFENSE_DESCRIPTION  \\\n",
       "0      I182070945           619               Larceny    LARCENY ALL OTHERS   \n",
       "1      I182070943          1402             Vandalism             VANDALISM   \n",
       "2      I182070941          3410                 Towed   TOWED MOTOR VEHICLE   \n",
       "3      I182070940          3114  Investigate Property  INVESTIGATE PROPERTY   \n",
       "4      I182070938          3114  Investigate Property  INVESTIGATE PROPERTY   \n",
       "\n",
       "  DISTRICT REPORTING_AREA    OCCURRED_ON_DATE  YEAR  MONTH DAY_OF_WEEK  HOUR  \\\n",
       "0      D14            808 2018-09-02 13:00:00  2018      9      Sunday    13   \n",
       "1      C11            347 2018-08-21 00:00:00  2018      8     Tuesday     0   \n",
       "2       D4            151 2018-09-03 19:27:00  2018      9      Monday    19   \n",
       "3       D4            272 2018-09-03 21:16:00  2018      9      Monday    21   \n",
       "4       B3            421 2018-09-03 21:05:00  2018      9      Monday    21   \n",
       "\n",
       "     UCR_PART       STREET        Lat       Long                     Location  \\\n",
       "0    Part One   LINCOLN ST  42.357791 -71.139371  (42.35779134, -71.13937053)   \n",
       "1    Part Two     HECLA ST  42.306821 -71.060300  (42.30682138, -71.06030035)   \n",
       "2  Part Three  CAZENOVE ST  42.346589 -71.072429  (42.34658879, -71.07242943)   \n",
       "3  Part Three   NEWCOMB ST  42.334182 -71.078664  (42.33418175, -71.07866441)   \n",
       "4  Part Three     DELHI ST  42.275365 -71.090361  (42.27536542, -71.09036101)   \n",
       "\n",
       "         DATE      TIME YEAR_MONTH  \n",
       "0  2018-09-02  13:00:00    2018-09  \n",
       "1  2018-08-21  00:00:00    2018-08  \n",
       "2  2018-09-03  19:27:00    2018-09  \n",
       "3  2018-09-03  21:16:00    2018-09  \n",
       "4  2018-09-03  21:05:00    2018-09  "
      ]
     },
     "execution_count": 16,
     "metadata": {},
     "output_type": "execute_result"
    }
   ],
   "source": [
    "# display first five fields\n",
    "cleaned_crimedf.head()"
   ]
  },
  {
   "cell_type": "code",
   "execution_count": 17,
   "metadata": {},
   "outputs": [],
   "source": [
    "# assign the cleaned dataframe to crimedf\n",
    "crimedf = cleaned_crimedf"
   ]
  },
  {
   "cell_type": "code",
   "execution_count": 18,
   "metadata": {},
   "outputs": [],
   "source": [
    "# create a new dataframe to store Lat, Long, and COUNT\n",
    "crime_loc_df = pd.DataFrame(crimedf.groupby(['Lat', 'Long']).size().sort_values(ascending=False).rename('COUNT').reset_index())"
   ]
  },
  {
   "cell_type": "code",
   "execution_count": 19,
   "metadata": {},
   "outputs": [
    {
     "data": {
      "text/html": [
       "<div>\n",
       "<style scoped>\n",
       "    .dataframe tbody tr th:only-of-type {\n",
       "        vertical-align: middle;\n",
       "    }\n",
       "\n",
       "    .dataframe tbody tr th {\n",
       "        vertical-align: top;\n",
       "    }\n",
       "\n",
       "    .dataframe thead th {\n",
       "        text-align: right;\n",
       "    }\n",
       "</style>\n",
       "<table border=\"1\" class=\"dataframe\">\n",
       "  <thead>\n",
       "    <tr style=\"text-align: right;\">\n",
       "      <th></th>\n",
       "      <th>Lat</th>\n",
       "      <th>Long</th>\n",
       "      <th>COUNT</th>\n",
       "    </tr>\n",
       "  </thead>\n",
       "  <tbody>\n",
       "    <tr>\n",
       "      <td>0</td>\n",
       "      <td>42.348624</td>\n",
       "      <td>-71.082776</td>\n",
       "      <td>1243</td>\n",
       "    </tr>\n",
       "    <tr>\n",
       "      <td>1</td>\n",
       "      <td>42.361839</td>\n",
       "      <td>-71.059765</td>\n",
       "      <td>1208</td>\n",
       "    </tr>\n",
       "    <tr>\n",
       "      <td>2</td>\n",
       "      <td>42.284826</td>\n",
       "      <td>-71.091374</td>\n",
       "      <td>1120</td>\n",
       "    </tr>\n",
       "    <tr>\n",
       "      <td>3</td>\n",
       "      <td>42.328663</td>\n",
       "      <td>-71.085634</td>\n",
       "      <td>1042</td>\n",
       "    </tr>\n",
       "    <tr>\n",
       "      <td>4</td>\n",
       "      <td>42.256216</td>\n",
       "      <td>-71.124019</td>\n",
       "      <td>898</td>\n",
       "    </tr>\n",
       "  </tbody>\n",
       "</table>\n",
       "</div>"
      ],
      "text/plain": [
       "         Lat       Long  COUNT\n",
       "0  42.348624 -71.082776   1243\n",
       "1  42.361839 -71.059765   1208\n",
       "2  42.284826 -71.091374   1120\n",
       "3  42.328663 -71.085634   1042\n",
       "4  42.256216 -71.124019    898"
      ]
     },
     "execution_count": 19,
     "metadata": {},
     "output_type": "execute_result"
    }
   ],
   "source": [
    "# display first five fields\n",
    "crime_loc_df.head()"
   ]
  },
  {
   "cell_type": "code",
   "execution_count": 20,
   "metadata": {},
   "outputs": [
    {
     "data": {
      "text/plain": [
       "296573"
      ]
     },
     "execution_count": 20,
     "metadata": {},
     "output_type": "execute_result"
    }
   ],
   "source": [
    "# get the total number of crimes\n",
    "crime_loc_df['COUNT'].sum()"
   ]
  },
  {
   "cell_type": "code",
   "execution_count": 21,
   "metadata": {},
   "outputs": [],
   "source": [
    "# Drop a row by condition\n",
    "crime_loc_filter_df = crime_loc_df[crime_loc_df.Lat != -1]"
   ]
  },
  {
   "cell_type": "code",
   "execution_count": 22,
   "metadata": {},
   "outputs": [],
   "source": [
    "# Get the locations which have number of crimes >= 100\n",
    "crime_max_loc_df = crime_loc_filter_df[crime_loc_filter_df.COUNT >= 100]"
   ]
  },
  {
   "cell_type": "code",
   "execution_count": 23,
   "metadata": {},
   "outputs": [],
   "source": [
    "# import relevant libraries\n",
    "import plotly.graph_objs as go"
   ]
  },
  {
   "cell_type": "code",
   "execution_count": 30,
   "metadata": {},
   "outputs": [
    {
     "data": {
      "application/vnd.plotly.v1+json": {
       "config": {
        "plotlyServerURL": "https://plot.ly"
       },
       "data": [
        {
         "marker": {
          "color": [
           1243,
           1208,
           1120,
           1042,
           898,
           783,
           773,
           735,
           688,
           655,
           652,
           584,
           572,
           562,
           561,
           549,
           523,
           523,
           515,
           507,
           504,
           472,
           472,
           455,
           445,
           444,
           440,
           437,
           436,
           432,
           427,
           421,
           417,
           404,
           393,
           378,
           376,
           376,
           371,
           360,
           355,
           341,
           339,
           326,
           320,
           313,
           310,
           299,
           298,
           298,
           297,
           296,
           293,
           291,
           290,
           289,
           285,
           284,
           282,
           276,
           271,
           269,
           268,
           261,
           257,
           257,
           256,
           256,
           255,
           253,
           251,
           248,
           242,
           240,
           239,
           233,
           233,
           232,
           231,
           228,
           227,
           226,
           224,
           223,
           223,
           221,
           221,
           220,
           220,
           217,
           214,
           214,
           207,
           207,
           206,
           204,
           201,
           201,
           200,
           199,
           198,
           198,
           198,
           197,
           196,
           196,
           195,
           195,
           194,
           194,
           193,
           192,
           188,
           187,
           187,
           185,
           184,
           184,
           184,
           183,
           182,
           182,
           182,
           181,
           178,
           177,
           177,
           176,
           176,
           176,
           175,
           175,
           174,
           173,
           173,
           172,
           171,
           169,
           168,
           168,
           167,
           167,
           166,
           165,
           164,
           163,
           163,
           162,
           162,
           162,
           161,
           160,
           160,
           160,
           160,
           160,
           159,
           158,
           156,
           156,
           156,
           155,
           155,
           154,
           154,
           154,
           154,
           154,
           153,
           153,
           153,
           152,
           151,
           150,
           150,
           150,
           149,
           149,
           149,
           148,
           148,
           148,
           148,
           148,
           147,
           147,
           147,
           145,
           144,
           144,
           144,
           144,
           144,
           143,
           141,
           141,
           141,
           141,
           140,
           140,
           140,
           140,
           139,
           139,
           139,
           139,
           138,
           137,
           136,
           136,
           136,
           136,
           135,
           134,
           134,
           134,
           133,
           133,
           133,
           133,
           133,
           133,
           133,
           132,
           132,
           131,
           131,
           131,
           131,
           131,
           130,
           130,
           130,
           130,
           129,
           129,
           128,
           128,
           127,
           127,
           127,
           127,
           126,
           126,
           126,
           126,
           126,
           125,
           125,
           125,
           124,
           124,
           124,
           124,
           123,
           122,
           122,
           122,
           122,
           122,
           121,
           121,
           121,
           121,
           121,
           120,
           120,
           120,
           120,
           119,
           119,
           119,
           118,
           118,
           118,
           118,
           118,
           118,
           118,
           118,
           118,
           117,
           117,
           117,
           117,
           117,
           117,
           116,
           116,
           116,
           116,
           116,
           116,
           116,
           115,
           115,
           115,
           114,
           114,
           114,
           114,
           114,
           113,
           113,
           112,
           112,
           112,
           111,
           111,
           111,
           111,
           111,
           111,
           111,
           111,
           111,
           111,
           110,
           110,
           110,
           109,
           109,
           109,
           109,
           109,
           109,
           109,
           109,
           108,
           108,
           108,
           108,
           108,
           108,
           108,
           108,
           107,
           107,
           107,
           107,
           107,
           107,
           107,
           106,
           106,
           106,
           106,
           106,
           106,
           106,
           106,
           106,
           105,
           105,
           105,
           105,
           105,
           105,
           105,
           104,
           104,
           104,
           104,
           104,
           104,
           103,
           103,
           103,
           103,
           103,
           103,
           103,
           103,
           102,
           102,
           102,
           102,
           102,
           102,
           102,
           102,
           102,
           102,
           101,
           101,
           101,
           101,
           101,
           101,
           101,
           101,
           101,
           101,
           101,
           100,
           100,
           100,
           100,
           100,
           100,
           100
          ],
          "showscale": true
         },
         "mode": "markers",
         "text": [
          1243,
          1208,
          1120,
          1042,
          898,
          783,
          773,
          735,
          688,
          655,
          652,
          584,
          572,
          562,
          561,
          549,
          523,
          523,
          515,
          507,
          504,
          472,
          472,
          455,
          445,
          444,
          440,
          437,
          436,
          432,
          427,
          421,
          417,
          404,
          393,
          378,
          376,
          376,
          371,
          360,
          355,
          341,
          339,
          326,
          320,
          313,
          310,
          299,
          298,
          298,
          297,
          296,
          293,
          291,
          290,
          289,
          285,
          284,
          282,
          276,
          271,
          269,
          268,
          261,
          257,
          257,
          256,
          256,
          255,
          253,
          251,
          248,
          242,
          240,
          239,
          233,
          233,
          232,
          231,
          228,
          227,
          226,
          224,
          223,
          223,
          221,
          221,
          220,
          220,
          217,
          214,
          214,
          207,
          207,
          206,
          204,
          201,
          201,
          200,
          199,
          198,
          198,
          198,
          197,
          196,
          196,
          195,
          195,
          194,
          194,
          193,
          192,
          188,
          187,
          187,
          185,
          184,
          184,
          184,
          183,
          182,
          182,
          182,
          181,
          178,
          177,
          177,
          176,
          176,
          176,
          175,
          175,
          174,
          173,
          173,
          172,
          171,
          169,
          168,
          168,
          167,
          167,
          166,
          165,
          164,
          163,
          163,
          162,
          162,
          162,
          161,
          160,
          160,
          160,
          160,
          160,
          159,
          158,
          156,
          156,
          156,
          155,
          155,
          154,
          154,
          154,
          154,
          154,
          153,
          153,
          153,
          152,
          151,
          150,
          150,
          150,
          149,
          149,
          149,
          148,
          148,
          148,
          148,
          148,
          147,
          147,
          147,
          145,
          144,
          144,
          144,
          144,
          144,
          143,
          141,
          141,
          141,
          141,
          140,
          140,
          140,
          140,
          139,
          139,
          139,
          139,
          138,
          137,
          136,
          136,
          136,
          136,
          135,
          134,
          134,
          134,
          133,
          133,
          133,
          133,
          133,
          133,
          133,
          132,
          132,
          131,
          131,
          131,
          131,
          131,
          130,
          130,
          130,
          130,
          129,
          129,
          128,
          128,
          127,
          127,
          127,
          127,
          126,
          126,
          126,
          126,
          126,
          125,
          125,
          125,
          124,
          124,
          124,
          124,
          123,
          122,
          122,
          122,
          122,
          122,
          121,
          121,
          121,
          121,
          121,
          120,
          120,
          120,
          120,
          119,
          119,
          119,
          118,
          118,
          118,
          118,
          118,
          118,
          118,
          118,
          118,
          117,
          117,
          117,
          117,
          117,
          117,
          116,
          116,
          116,
          116,
          116,
          116,
          116,
          115,
          115,
          115,
          114,
          114,
          114,
          114,
          114,
          113,
          113,
          112,
          112,
          112,
          111,
          111,
          111,
          111,
          111,
          111,
          111,
          111,
          111,
          111,
          110,
          110,
          110,
          109,
          109,
          109,
          109,
          109,
          109,
          109,
          109,
          108,
          108,
          108,
          108,
          108,
          108,
          108,
          108,
          107,
          107,
          107,
          107,
          107,
          107,
          107,
          106,
          106,
          106,
          106,
          106,
          106,
          106,
          106,
          106,
          105,
          105,
          105,
          105,
          105,
          105,
          105,
          104,
          104,
          104,
          104,
          104,
          104,
          103,
          103,
          103,
          103,
          103,
          103,
          103,
          103,
          102,
          102,
          102,
          102,
          102,
          102,
          102,
          102,
          102,
          102,
          101,
          101,
          101,
          101,
          101,
          101,
          101,
          101,
          101,
          101,
          101,
          100,
          100,
          100,
          100,
          100,
          100,
          100
         ],
         "type": "scatter",
         "uid": "3ea0362e-1ae4-465d-bd74-61d551a88ee9",
         "x": [
          -71.08277637,
          -71.05976489,
          -71.09137369,
          -71.08563401,
          -71.12401947,
          -71.0597091,
          -71.05467933,
          -71.07085307,
          -71.0637051,
          -71.06940877,
          -71.06198607,
          -71.0608798,
          -71.10429432,
          -71.06313294,
          -71.07638124,
          -71.09187755,
          -71.0613401,
          -71.0741278,
          -71.06525499,
          -71.03929078,
          -71.07239518,
          -71.08051941,
          -71.07840978,
          -71.0749171,
          -71.07626098,
          -71.09880598,
          -71.06135413,
          -71.14822128,
          -71.06177615,
          -71.08688339,
          -71.1504985,
          -71.07436364,
          -71.09316781,
          -71.06954652,
          -71.06493967,
          -71.06012863,
          -71.06348817,
          -71.09659186,
          -71.06321676,
          -71.10087902,
          -71.05593196,
          -71.07849582,
          -71.07717023,
          -71.06312433,
          -71.14270449,
          -71.06256291,
          -71.03979926,
          -71.06536641,
          -71.06579592,
          -71.0727637,
          -71.07014395,
          -71.10377843,
          -71.08014801,
          -71.10782832,
          -71.07925506,
          -71.08482402,
          -71.04665434,
          -71.05474135,
          -71.09140736,
          -71.0964439,
          -71.0810344,
          -71.07538939,
          -71.08632016,
          -71.07452168,
          -71.11587798,
          -71.04210959,
          -71.11989956,
          -71.0718865,
          -71.09833083,
          -71.06046974,
          -71.06213513,
          -71.06373331,
          -71.08373481,
          -71.14522971,
          -71.0627594,
          -71.10428096,
          -71.08328981,
          -71.08262277,
          -71.12096171,
          -71.10328402,
          -71.0735877,
          -71.1253531,
          -71.06636305,
          -71.06132725,
          -71.10096723,
          -71.0585236,
          -71.07170293,
          -71.06380404,
          -71.08845935,
          -71.0619996,
          -71.09055618,
          -71.08299865,
          -71.07296566,
          -71.05349144,
          -71.08477887,
          -71.09870021,
          -71.09980109,
          -71.15274721,
          -71.08382217,
          -71.05288819,
          -71.09387677,
          -71.08405792,
          -71.06000539,
          -71.08530641,
          -71.09075049,
          -71.07461217,
          -71.06067801,
          -71.07666607,
          -71.10067012,
          -71.07881031,
          -71.06969334,
          -71.08990197,
          -71.03730221,
          -71.09606805,
          -71.06050249,
          -71.09823049,
          -71.08429595,
          -71.06258333,
          -71.06570084,
          -71.10164757,
          -71.06674608,
          -71.0595669,
          -71.05620816,
          -71.06130524,
          -71.06835343,
          -71.11183089,
          -71.04036424,
          -71.09199697,
          -71.07633479,
          -71.08130134,
          -71.0524813,
          -71.07227173,
          -71.05928145,
          -71.05715277,
          -71.083158,
          -71.08584976,
          -71.05881953,
          -71.06547135,
          -71.0773211,
          -71.0658297,
          -71.09039049,
          -71.07915167,
          -71.07572281,
          -71.09039724,
          -71.06444063,
          -71.14762531,
          -71.08180677,
          -71.08510501,
          -71.09380308,
          -71.08909334,
          -71.07220576,
          -71.06424768,
          -71.07836018,
          -71.06879992,
          -71.08502291,
          -71.06121836,
          -71.06285769,
          -71.04608937,
          -71.06280666,
          -71.08057671,
          -71.09746579,
          -71.08584183,
          -71.04023929,
          -71.14345725,
          -71.09452937,
          -71.09795135,
          -71.09550303,
          -71.06206351,
          -71.09707352,
          -71.10971613,
          -71.13180684,
          -71.10317575,
          -71.07410838,
          -71.08866865,
          -71.05893025,
          -71.06981187,
          -71.14319087,
          -71.09849282,
          -71.08206875,
          -71.06549569,
          -71.04291647,
          -71.08450821,
          -71.066253,
          -71.06778025,
          -71.08076738,
          -71.07104897,
          -71.09305138,
          -71.08254058,
          -71.11374152,
          -71.0576869,
          -71.06811584,
          -71.07692974,
          -71.05305583,
          -71.06296987,
          -71.0556788,
          -71.07549901,
          -71.07772012,
          -71.08097517,
          -71.11676234,
          -71.06468373,
          -71.05908258,
          -71.09932317,
          -71.07272215,
          -71.04941018,
          -71.09467467,
          -71.08745421,
          -71.10679596,
          -71.06575183,
          -71.07662788,
          -71.10298073,
          -71.0952644,
          -71.05633276,
          -71.03641895,
          -71.06021218,
          -71.07460717,
          -71.06016189,
          -71.07582361,
          -71.07560801,
          -71.13852468,
          -71.08751152,
          -71.08284839,
          -71.08511004,
          -71.05898587,
          -71.08341505,
          -71.03917179,
          -71.1018026,
          -71.06844484,
          -71.06760042,
          -71.0816673,
          -71.08237834,
          -71.05883334,
          -71.07364875,
          -71.0571127,
          -71.08015661,
          -71.07215291,
          -71.08565039,
          -71.06165515,
          -71.08489204,
          -71.08489748,
          -71.06792411,
          -71.09117863,
          -71.06432264,
          -71.14798064,
          -71.062607,
          -71.06270824,
          -71.16637332,
          -71.0938121,
          -71.08157395,
          -71.06493039,
          -71.11312439,
          -71.10066932,
          -71.07730382,
          -71.05195809,
          -71.062044,
          -71.1068278,
          -71.06864556,
          -71.08181675,
          -71.06886238,
          -71.07425843,
          -71.08007661,
          -71.07517847,
          -71.06425694,
          -71.07165726,
          -71.06189505,
          -71.07581493,
          -71.05791376,
          -71.08771531,
          -71.04803996,
          -71.07442362,
          -71.1142909,
          -71.06593235,
          -71.09959089,
          -71.04417249,
          -71.07194742,
          -71.07213,
          -71.09615503,
          -71.08213874,
          -71.15104267,
          -71.0992241,
          -71.11267011,
          -71.09486034,
          -71.05160423,
          -71.17204938,
          -71.07218295,
          -71.05482325,
          -71.12317207,
          -71.09554245,
          -71.07964562,
          -71.06126785,
          -71.08129856,
          -71.07972518,
          -71.09807867,
          -71.13125747,
          -71.07620742,
          -71.08206723,
          -71.08162344,
          -71.07626513,
          -71.07870873,
          -71.0638074,
          -71.14298078,
          -71.12422635,
          -71.04639023,
          -71.0892305,
          -71.04864886,
          -71.09130505,
          -71.06862907,
          -71.07322932,
          -71.07208833,
          -71.07102057,
          -71.05362239,
          -71.07186599,
          -71.06602232,
          -71.07388628,
          -71.06015261,
          -71.08118184,
          -71.13090649,
          -71.07839997,
          -71.07626209,
          -71.07141943,
          -71.07374541,
          -71.07010617,
          -71.07868791,
          -71.08763245,
          -71.06093185,
          -71.08038427,
          -71.0862124,
          -71.05259107,
          -71.06054873,
          -71.11152626,
          -71.08183509,
          -71.11989255,
          -71.12708146,
          -71.01203798,
          -71.05272807,
          -71.14098779,
          -71.1173157,
          -71.14492138,
          -71.07964653,
          -71.12467152,
          -71.08128808,
          -71.0607314,
          -71.0710271,
          -71.14813948,
          -71.06829572,
          -71.13114273,
          -71.05942841,
          -71.08194011,
          -71.06167557,
          -71.08789462,
          -71.06747771,
          -71.05253795,
          -71.06631579,
          -71.09817294,
          -71.08993418,
          -71.09824825,
          -71.17087959,
          -71.07468313,
          -71.00893922,
          -71.06615319,
          -71.06675783,
          -71.05841861,
          -71.07681348,
          -71.08350146,
          -71.12629908,
          -71.07337,
          -71.07891773,
          -71.07320696,
          -71.04736497,
          -71.07768279,
          -71.05800088,
          -71.0581068,
          -71.08887826,
          -71.0764015,
          -71.09691295,
          -71.09056227,
          -71.07642483,
          -71.06884734,
          -71.09384023,
          -71.08354076,
          -71.09998685,
          -71.0882492,
          -71.09388736,
          -71.05695787,
          -71.13860108,
          -71.0783156,
          -71.00842413,
          -71.06978865,
          -71.07932755,
          -71.06048592,
          -71.07802992,
          -71.06206081,
          -71.07945869,
          -71.08841746,
          -71.1006951,
          -71.07159012,
          -71.08721196,
          -71.05213281,
          -71.07838214,
          -71.07038932,
          -71.09848676,
          -71.10670681
         ],
         "y": [
          42.34862382,
          42.36183857,
          42.28482577,
          42.32866284,
          42.25621592,
          42.29755533,
          42.34128751,
          42.33152148,
          42.3523119,
          42.33954199,
          42.32696647,
          42.35512339,
          42.30971857,
          42.29848866,
          42.33401829,
          42.33367922,
          42.310434,
          42.35095909,
          42.35241815,
          42.37081805,
          42.33428841,
          42.32696802,
          42.34980175,
          42.33511904,
          42.3503787,
          42.3465382,
          42.36643546,
          42.28709355,
          42.35602373,
          42.34840576,
          42.349056,
          42.33555954,
          42.33506218,
          42.36240281,
          42.34302527,
          42.35521625,
          42.34997256,
          42.34489594,
          42.32809966,
          42.32469443,
          42.37663167,
          42.3479724,
          42.29603943,
          42.35540738,
          42.34946444,
          42.35272948,
          42.37620267,
          42.34942864,
          42.32553801,
          42.33311189,
          42.33210843,
          42.33380683,
          42.34932471,
          42.33606304,
          42.34749899,
          42.32925905,
          42.336112,
          42.35997967,
          42.33123776,
          42.34717363,
          42.34999733,
          42.33395125,
          42.34439568,
          42.35176179,
          42.27531312,
          42.31779354,
          42.35170571,
          42.29360585,
          42.34442266,
          42.29919694,
          42.35637531,
          42.35103105,
          42.33044113,
          42.34988575,
          42.35174282,
          42.33744152,
          42.32823419,
          42.30938437,
          42.26701085,
          42.32291406,
          42.34453911,
          42.2518944,
          42.2783992,
          42.3626075,
          42.32283759,
          42.35972137,
          42.29131613,
          42.35428377,
          42.34044966,
          42.35650174,
          42.30878855,
          42.27133005,
          42.30461251,
          42.32614559,
          42.3043395,
          42.31538436,
          42.34353469,
          42.35555336,
          42.32872589,
          42.35942556,
          42.26817397,
          42.31860134,
          42.35591935,
          42.32952036,
          42.26956689,
          42.33816387,
          42.36646326,
          42.35118005,
          42.26788791,
          42.35059717,
          42.35143483,
          42.30956305,
          42.37546983,
          42.34877575,
          42.36489527,
          42.31771534,
          42.3457782,
          42.35594239,
          42.29881968,
          42.32483301,
          42.30344073,
          42.30254239,
          42.36020464,
          42.28866198,
          42.32856401,
          42.28446743,
          42.38229155,
          42.27855984,
          42.28716674,
          42.34901954,
          42.32557398,
          42.35237073,
          42.35648631,
          42.31322413,
          42.3494205,
          42.30664081,
          42.3575462,
          42.30540715,
          42.35009599,
          42.31735472,
          42.33402461,
          42.3473098,
          42.34063708,
          42.28079658,
          42.28526024,
          42.3499624,
          42.30649283,
          42.28956988,
          42.26994732,
          42.31127726,
          42.28029155,
          42.29990887,
          42.33755715,
          42.31633855,
          42.29752097,
          42.29666202,
          42.36038173,
          42.28410589,
          42.32198656,
          42.33744115,
          42.31506898,
          42.29686162,
          42.38093345,
          42.36127607,
          42.27791465,
          42.31615184,
          42.27615691,
          42.35521429,
          42.31949779,
          42.26194848,
          42.35204779,
          42.32624204,
          42.28431486,
          42.34376458,
          42.35680075,
          42.28248068,
          42.3468275,
          42.34339388,
          42.29478707,
          42.35106637,
          42.33550576,
          42.34815229,
          42.315969,
          42.31363409,
          42.33543394,
          42.3036967,
          42.28414025,
          42.3169665,
          42.28314714,
          42.36139413,
          42.35064439,
          42.30812619,
          42.32790482,
          42.3523414,
          42.35218278,
          42.31224327,
          42.34857652,
          42.30576686,
          42.24831869,
          42.2843982,
          42.30470399,
          42.32270922,
          42.34186765,
          42.29767279,
          42.31943966,
          42.333382,
          42.32665471,
          42.30209443,
          42.33675016,
          42.30492239,
          42.27683754,
          42.34234193,
          42.33561661,
          42.30638323,
          42.30876959,
          42.35988372,
          42.33562126,
          42.33455374,
          42.35595391,
          42.28187061,
          42.30896999,
          42.29861988,
          42.35370585,
          42.32902469,
          42.36943145,
          42.34410718,
          42.30870401,
          42.30406722,
          42.33048169,
          42.29540175,
          42.35426247,
          42.28208198,
          42.36179428,
          42.33153805,
          42.32104169,
          42.33640891,
          42.3642384,
          42.34895777,
          42.29944216,
          42.27273548,
          42.33001318,
          42.35311007,
          42.25943465,
          42.31959298,
          42.34255919,
          42.35042609,
          42.34601613,
          42.31993295,
          42.2871482,
          42.30055518,
          42.3451828,
          42.30645148,
          42.35961316,
          42.3649755,
          42.3211829,
          42.30626521,
          42.33330171,
          42.34701666,
          42.30090969,
          42.31089986,
          42.3360292,
          42.35165733,
          42.29057504,
          42.356585,
          42.28927826,
          42.37736388,
          42.34091586,
          42.29234068,
          42.27130225,
          42.31193403,
          42.36122324,
          42.33056977,
          42.33285027,
          42.33130578,
          42.332531,
          42.34402604,
          42.32853529,
          42.35666076,
          42.31485546,
          42.31624019,
          42.31529421,
          42.33930416,
          42.26932098,
          42.30481467,
          42.36067984,
          42.25592648,
          42.2752767,
          42.31679542,
          42.30060543,
          42.33596847,
          42.31985444,
          42.34255587,
          42.35085371,
          42.34767067,
          42.32221645,
          42.31865102,
          42.29926303,
          42.30132851,
          42.29042439,
          42.34531664,
          42.28342716,
          42.35404844,
          42.31632131,
          42.33129745,
          42.27934055,
          42.30443502,
          42.33331285,
          42.33926764,
          42.3367113,
          42.35822966,
          42.35157076,
          42.35066174,
          42.28339069,
          42.30028028,
          42.30154555,
          42.35540113,
          42.28465991,
          42.31989006,
          42.28962239,
          42.28265604,
          42.2834045,
          42.3092779,
          42.2857651,
          42.36439256,
          42.29268711,
          42.30603974,
          42.35649296,
          42.36242887,
          42.32639844,
          42.27132363,
          42.24361883,
          42.30098889,
          42.38783615,
          42.367271,
          42.34266946,
          42.25940183,
          42.3458376,
          42.3189792,
          42.25332979,
          42.30085931,
          42.35554806,
          42.30010597,
          42.2578406,
          42.29910777,
          42.35283155,
          42.36394509,
          42.28297379,
          42.35145666,
          42.28508809,
          42.30829668,
          42.36293611,
          42.28863812,
          42.27544327,
          42.3144484,
          42.31584636,
          42.2802082,
          42.30022551,
          42.39214603,
          42.30703835,
          42.30648026,
          42.32692112,
          42.30144714,
          42.2806123,
          42.24124926,
          42.33361,
          42.34828759,
          42.29244178,
          42.28076737,
          42.28623708,
          42.30947615,
          42.32445145,
          42.27967051,
          42.34947586,
          42.31591905,
          42.35055412,
          42.32324394,
          42.29581546,
          42.26922278,
          42.3078214,
          42.31408519,
          42.28406985,
          42.31275031,
          42.33014012,
          42.34900739,
          42.3353741,
          42.39269663,
          42.29938509,
          42.30870132,
          42.35193461,
          42.35393998,
          42.36109742,
          42.32734041,
          42.34710196,
          42.34280177,
          42.29019621,
          42.34621459,
          42.35438252,
          42.3290038,
          42.34827698,
          42.2676132,
          42.33857
         ]
        }
       ],
       "layout": {
        "autosize": false,
        "height": 1000,
        "template": {
         "data": {
          "bar": [
           {
            "error_x": {
             "color": "#2a3f5f"
            },
            "error_y": {
             "color": "#2a3f5f"
            },
            "marker": {
             "line": {
              "color": "#E5ECF6",
              "width": 0.5
             }
            },
            "type": "bar"
           }
          ],
          "barpolar": [
           {
            "marker": {
             "line": {
              "color": "#E5ECF6",
              "width": 0.5
             }
            },
            "type": "barpolar"
           }
          ],
          "carpet": [
           {
            "aaxis": {
             "endlinecolor": "#2a3f5f",
             "gridcolor": "white",
             "linecolor": "white",
             "minorgridcolor": "white",
             "startlinecolor": "#2a3f5f"
            },
            "baxis": {
             "endlinecolor": "#2a3f5f",
             "gridcolor": "white",
             "linecolor": "white",
             "minorgridcolor": "white",
             "startlinecolor": "#2a3f5f"
            },
            "type": "carpet"
           }
          ],
          "choropleth": [
           {
            "colorbar": {
             "outlinewidth": 0,
             "ticks": ""
            },
            "type": "choropleth"
           }
          ],
          "contour": [
           {
            "colorbar": {
             "outlinewidth": 0,
             "ticks": ""
            },
            "colorscale": [
             [
              0,
              "#0d0887"
             ],
             [
              0.1111111111111111,
              "#46039f"
             ],
             [
              0.2222222222222222,
              "#7201a8"
             ],
             [
              0.3333333333333333,
              "#9c179e"
             ],
             [
              0.4444444444444444,
              "#bd3786"
             ],
             [
              0.5555555555555556,
              "#d8576b"
             ],
             [
              0.6666666666666666,
              "#ed7953"
             ],
             [
              0.7777777777777778,
              "#fb9f3a"
             ],
             [
              0.8888888888888888,
              "#fdca26"
             ],
             [
              1,
              "#f0f921"
             ]
            ],
            "type": "contour"
           }
          ],
          "contourcarpet": [
           {
            "colorbar": {
             "outlinewidth": 0,
             "ticks": ""
            },
            "type": "contourcarpet"
           }
          ],
          "heatmap": [
           {
            "colorbar": {
             "outlinewidth": 0,
             "ticks": ""
            },
            "colorscale": [
             [
              0,
              "#0d0887"
             ],
             [
              0.1111111111111111,
              "#46039f"
             ],
             [
              0.2222222222222222,
              "#7201a8"
             ],
             [
              0.3333333333333333,
              "#9c179e"
             ],
             [
              0.4444444444444444,
              "#bd3786"
             ],
             [
              0.5555555555555556,
              "#d8576b"
             ],
             [
              0.6666666666666666,
              "#ed7953"
             ],
             [
              0.7777777777777778,
              "#fb9f3a"
             ],
             [
              0.8888888888888888,
              "#fdca26"
             ],
             [
              1,
              "#f0f921"
             ]
            ],
            "type": "heatmap"
           }
          ],
          "heatmapgl": [
           {
            "colorbar": {
             "outlinewidth": 0,
             "ticks": ""
            },
            "colorscale": [
             [
              0,
              "#0d0887"
             ],
             [
              0.1111111111111111,
              "#46039f"
             ],
             [
              0.2222222222222222,
              "#7201a8"
             ],
             [
              0.3333333333333333,
              "#9c179e"
             ],
             [
              0.4444444444444444,
              "#bd3786"
             ],
             [
              0.5555555555555556,
              "#d8576b"
             ],
             [
              0.6666666666666666,
              "#ed7953"
             ],
             [
              0.7777777777777778,
              "#fb9f3a"
             ],
             [
              0.8888888888888888,
              "#fdca26"
             ],
             [
              1,
              "#f0f921"
             ]
            ],
            "type": "heatmapgl"
           }
          ],
          "histogram": [
           {
            "marker": {
             "colorbar": {
              "outlinewidth": 0,
              "ticks": ""
             }
            },
            "type": "histogram"
           }
          ],
          "histogram2d": [
           {
            "colorbar": {
             "outlinewidth": 0,
             "ticks": ""
            },
            "colorscale": [
             [
              0,
              "#0d0887"
             ],
             [
              0.1111111111111111,
              "#46039f"
             ],
             [
              0.2222222222222222,
              "#7201a8"
             ],
             [
              0.3333333333333333,
              "#9c179e"
             ],
             [
              0.4444444444444444,
              "#bd3786"
             ],
             [
              0.5555555555555556,
              "#d8576b"
             ],
             [
              0.6666666666666666,
              "#ed7953"
             ],
             [
              0.7777777777777778,
              "#fb9f3a"
             ],
             [
              0.8888888888888888,
              "#fdca26"
             ],
             [
              1,
              "#f0f921"
             ]
            ],
            "type": "histogram2d"
           }
          ],
          "histogram2dcontour": [
           {
            "colorbar": {
             "outlinewidth": 0,
             "ticks": ""
            },
            "colorscale": [
             [
              0,
              "#0d0887"
             ],
             [
              0.1111111111111111,
              "#46039f"
             ],
             [
              0.2222222222222222,
              "#7201a8"
             ],
             [
              0.3333333333333333,
              "#9c179e"
             ],
             [
              0.4444444444444444,
              "#bd3786"
             ],
             [
              0.5555555555555556,
              "#d8576b"
             ],
             [
              0.6666666666666666,
              "#ed7953"
             ],
             [
              0.7777777777777778,
              "#fb9f3a"
             ],
             [
              0.8888888888888888,
              "#fdca26"
             ],
             [
              1,
              "#f0f921"
             ]
            ],
            "type": "histogram2dcontour"
           }
          ],
          "mesh3d": [
           {
            "colorbar": {
             "outlinewidth": 0,
             "ticks": ""
            },
            "type": "mesh3d"
           }
          ],
          "parcoords": [
           {
            "line": {
             "colorbar": {
              "outlinewidth": 0,
              "ticks": ""
             }
            },
            "type": "parcoords"
           }
          ],
          "scatter": [
           {
            "marker": {
             "colorbar": {
              "outlinewidth": 0,
              "ticks": ""
             }
            },
            "type": "scatter"
           }
          ],
          "scatter3d": [
           {
            "line": {
             "colorbar": {
              "outlinewidth": 0,
              "ticks": ""
             }
            },
            "marker": {
             "colorbar": {
              "outlinewidth": 0,
              "ticks": ""
             }
            },
            "type": "scatter3d"
           }
          ],
          "scattercarpet": [
           {
            "marker": {
             "colorbar": {
              "outlinewidth": 0,
              "ticks": ""
             }
            },
            "type": "scattercarpet"
           }
          ],
          "scattergeo": [
           {
            "marker": {
             "colorbar": {
              "outlinewidth": 0,
              "ticks": ""
             }
            },
            "type": "scattergeo"
           }
          ],
          "scattergl": [
           {
            "marker": {
             "colorbar": {
              "outlinewidth": 0,
              "ticks": ""
             }
            },
            "type": "scattergl"
           }
          ],
          "scattermapbox": [
           {
            "marker": {
             "colorbar": {
              "outlinewidth": 0,
              "ticks": ""
             }
            },
            "type": "scattermapbox"
           }
          ],
          "scatterpolar": [
           {
            "marker": {
             "colorbar": {
              "outlinewidth": 0,
              "ticks": ""
             }
            },
            "type": "scatterpolar"
           }
          ],
          "scatterpolargl": [
           {
            "marker": {
             "colorbar": {
              "outlinewidth": 0,
              "ticks": ""
             }
            },
            "type": "scatterpolargl"
           }
          ],
          "scatterternary": [
           {
            "marker": {
             "colorbar": {
              "outlinewidth": 0,
              "ticks": ""
             }
            },
            "type": "scatterternary"
           }
          ],
          "surface": [
           {
            "colorbar": {
             "outlinewidth": 0,
             "ticks": ""
            },
            "colorscale": [
             [
              0,
              "#0d0887"
             ],
             [
              0.1111111111111111,
              "#46039f"
             ],
             [
              0.2222222222222222,
              "#7201a8"
             ],
             [
              0.3333333333333333,
              "#9c179e"
             ],
             [
              0.4444444444444444,
              "#bd3786"
             ],
             [
              0.5555555555555556,
              "#d8576b"
             ],
             [
              0.6666666666666666,
              "#ed7953"
             ],
             [
              0.7777777777777778,
              "#fb9f3a"
             ],
             [
              0.8888888888888888,
              "#fdca26"
             ],
             [
              1,
              "#f0f921"
             ]
            ],
            "type": "surface"
           }
          ],
          "table": [
           {
            "cells": {
             "fill": {
              "color": "#EBF0F8"
             },
             "line": {
              "color": "white"
             }
            },
            "header": {
             "fill": {
              "color": "#C8D4E3"
             },
             "line": {
              "color": "white"
             }
            },
            "type": "table"
           }
          ]
         },
         "layout": {
          "annotationdefaults": {
           "arrowcolor": "#2a3f5f",
           "arrowhead": 0,
           "arrowwidth": 1
          },
          "colorscale": {
           "diverging": [
            [
             0,
             "#8e0152"
            ],
            [
             0.1,
             "#c51b7d"
            ],
            [
             0.2,
             "#de77ae"
            ],
            [
             0.3,
             "#f1b6da"
            ],
            [
             0.4,
             "#fde0ef"
            ],
            [
             0.5,
             "#f7f7f7"
            ],
            [
             0.6,
             "#e6f5d0"
            ],
            [
             0.7,
             "#b8e186"
            ],
            [
             0.8,
             "#7fbc41"
            ],
            [
             0.9,
             "#4d9221"
            ],
            [
             1,
             "#276419"
            ]
           ],
           "sequential": [
            [
             0,
             "#0d0887"
            ],
            [
             0.1111111111111111,
             "#46039f"
            ],
            [
             0.2222222222222222,
             "#7201a8"
            ],
            [
             0.3333333333333333,
             "#9c179e"
            ],
            [
             0.4444444444444444,
             "#bd3786"
            ],
            [
             0.5555555555555556,
             "#d8576b"
            ],
            [
             0.6666666666666666,
             "#ed7953"
            ],
            [
             0.7777777777777778,
             "#fb9f3a"
            ],
            [
             0.8888888888888888,
             "#fdca26"
            ],
            [
             1,
             "#f0f921"
            ]
           ],
           "sequentialminus": [
            [
             0,
             "#0d0887"
            ],
            [
             0.1111111111111111,
             "#46039f"
            ],
            [
             0.2222222222222222,
             "#7201a8"
            ],
            [
             0.3333333333333333,
             "#9c179e"
            ],
            [
             0.4444444444444444,
             "#bd3786"
            ],
            [
             0.5555555555555556,
             "#d8576b"
            ],
            [
             0.6666666666666666,
             "#ed7953"
            ],
            [
             0.7777777777777778,
             "#fb9f3a"
            ],
            [
             0.8888888888888888,
             "#fdca26"
            ],
            [
             1,
             "#f0f921"
            ]
           ]
          },
          "colorway": [
           "#636efa",
           "#EF553B",
           "#00cc96",
           "#ab63fa",
           "#FFA15A",
           "#19d3f3",
           "#FF6692",
           "#B6E880",
           "#FF97FF",
           "#FECB52"
          ],
          "font": {
           "color": "#2a3f5f"
          },
          "geo": {
           "bgcolor": "white",
           "lakecolor": "white",
           "landcolor": "#E5ECF6",
           "showlakes": true,
           "showland": true,
           "subunitcolor": "white"
          },
          "hoverlabel": {
           "align": "left"
          },
          "hovermode": "closest",
          "mapbox": {
           "style": "light"
          },
          "paper_bgcolor": "white",
          "plot_bgcolor": "#E5ECF6",
          "polar": {
           "angularaxis": {
            "gridcolor": "white",
            "linecolor": "white",
            "ticks": ""
           },
           "bgcolor": "#E5ECF6",
           "radialaxis": {
            "gridcolor": "white",
            "linecolor": "white",
            "ticks": ""
           }
          },
          "scene": {
           "xaxis": {
            "backgroundcolor": "#E5ECF6",
            "gridcolor": "white",
            "gridwidth": 2,
            "linecolor": "white",
            "showbackground": true,
            "ticks": "",
            "zerolinecolor": "white"
           },
           "yaxis": {
            "backgroundcolor": "#E5ECF6",
            "gridcolor": "white",
            "gridwidth": 2,
            "linecolor": "white",
            "showbackground": true,
            "ticks": "",
            "zerolinecolor": "white"
           },
           "zaxis": {
            "backgroundcolor": "#E5ECF6",
            "gridcolor": "white",
            "gridwidth": 2,
            "linecolor": "white",
            "showbackground": true,
            "ticks": "",
            "zerolinecolor": "white"
           }
          },
          "shapedefaults": {
           "line": {
            "color": "#2a3f5f"
           }
          },
          "ternary": {
           "aaxis": {
            "gridcolor": "white",
            "linecolor": "white",
            "ticks": ""
           },
           "baxis": {
            "gridcolor": "white",
            "linecolor": "white",
            "ticks": ""
           },
           "bgcolor": "#E5ECF6",
           "caxis": {
            "gridcolor": "white",
            "linecolor": "white",
            "ticks": ""
           }
          },
          "title": {
           "x": 0.05
          },
          "xaxis": {
           "automargin": true,
           "gridcolor": "white",
           "linecolor": "white",
           "ticks": "",
           "zerolinecolor": "white",
           "zerolinewidth": 2
          },
          "yaxis": {
           "automargin": true,
           "gridcolor": "white",
           "linecolor": "white",
           "ticks": "",
           "zerolinecolor": "white",
           "zerolinewidth": 2
          }
         }
        },
        "width": 1000,
        "xaxis": {
         "title": {
          "text": "Longitude"
         }
        },
        "yaxis": {
         "title": {
          "text": "Latitude"
         }
        }
       }
      },
      "text/html": [
       "<div>\n",
       "        \n",
       "        \n",
       "            <div id=\"0db53741-2a39-448b-abd9-47db863546ec\" class=\"plotly-graph-div\" style=\"height:1000px; width:1000px;\"></div>\n",
       "            <script type=\"text/javascript\">\n",
       "                require([\"plotly\"], function(Plotly) {\n",
       "                    window.PLOTLYENV=window.PLOTLYENV || {};\n",
       "                    \n",
       "                if (document.getElementById(\"0db53741-2a39-448b-abd9-47db863546ec\")) {\n",
       "                    Plotly.newPlot(\n",
       "                        '0db53741-2a39-448b-abd9-47db863546ec',\n",
       "                        [{\"marker\": {\"color\": [1243, 1208, 1120, 1042, 898, 783, 773, 735, 688, 655, 652, 584, 572, 562, 561, 549, 523, 523, 515, 507, 504, 472, 472, 455, 445, 444, 440, 437, 436, 432, 427, 421, 417, 404, 393, 378, 376, 376, 371, 360, 355, 341, 339, 326, 320, 313, 310, 299, 298, 298, 297, 296, 293, 291, 290, 289, 285, 284, 282, 276, 271, 269, 268, 261, 257, 257, 256, 256, 255, 253, 251, 248, 242, 240, 239, 233, 233, 232, 231, 228, 227, 226, 224, 223, 223, 221, 221, 220, 220, 217, 214, 214, 207, 207, 206, 204, 201, 201, 200, 199, 198, 198, 198, 197, 196, 196, 195, 195, 194, 194, 193, 192, 188, 187, 187, 185, 184, 184, 184, 183, 182, 182, 182, 181, 178, 177, 177, 176, 176, 176, 175, 175, 174, 173, 173, 172, 171, 169, 168, 168, 167, 167, 166, 165, 164, 163, 163, 162, 162, 162, 161, 160, 160, 160, 160, 160, 159, 158, 156, 156, 156, 155, 155, 154, 154, 154, 154, 154, 153, 153, 153, 152, 151, 150, 150, 150, 149, 149, 149, 148, 148, 148, 148, 148, 147, 147, 147, 145, 144, 144, 144, 144, 144, 143, 141, 141, 141, 141, 140, 140, 140, 140, 139, 139, 139, 139, 138, 137, 136, 136, 136, 136, 135, 134, 134, 134, 133, 133, 133, 133, 133, 133, 133, 132, 132, 131, 131, 131, 131, 131, 130, 130, 130, 130, 129, 129, 128, 128, 127, 127, 127, 127, 126, 126, 126, 126, 126, 125, 125, 125, 124, 124, 124, 124, 123, 122, 122, 122, 122, 122, 121, 121, 121, 121, 121, 120, 120, 120, 120, 119, 119, 119, 118, 118, 118, 118, 118, 118, 118, 118, 118, 117, 117, 117, 117, 117, 117, 116, 116, 116, 116, 116, 116, 116, 115, 115, 115, 114, 114, 114, 114, 114, 113, 113, 112, 112, 112, 111, 111, 111, 111, 111, 111, 111, 111, 111, 111, 110, 110, 110, 109, 109, 109, 109, 109, 109, 109, 109, 108, 108, 108, 108, 108, 108, 108, 108, 107, 107, 107, 107, 107, 107, 107, 106, 106, 106, 106, 106, 106, 106, 106, 106, 105, 105, 105, 105, 105, 105, 105, 104, 104, 104, 104, 104, 104, 103, 103, 103, 103, 103, 103, 103, 103, 102, 102, 102, 102, 102, 102, 102, 102, 102, 102, 101, 101, 101, 101, 101, 101, 101, 101, 101, 101, 101, 100, 100, 100, 100, 100, 100, 100], \"showscale\": true}, \"mode\": \"markers\", \"text\": [1243.0, 1208.0, 1120.0, 1042.0, 898.0, 783.0, 773.0, 735.0, 688.0, 655.0, 652.0, 584.0, 572.0, 562.0, 561.0, 549.0, 523.0, 523.0, 515.0, 507.0, 504.0, 472.0, 472.0, 455.0, 445.0, 444.0, 440.0, 437.0, 436.0, 432.0, 427.0, 421.0, 417.0, 404.0, 393.0, 378.0, 376.0, 376.0, 371.0, 360.0, 355.0, 341.0, 339.0, 326.0, 320.0, 313.0, 310.0, 299.0, 298.0, 298.0, 297.0, 296.0, 293.0, 291.0, 290.0, 289.0, 285.0, 284.0, 282.0, 276.0, 271.0, 269.0, 268.0, 261.0, 257.0, 257.0, 256.0, 256.0, 255.0, 253.0, 251.0, 248.0, 242.0, 240.0, 239.0, 233.0, 233.0, 232.0, 231.0, 228.0, 227.0, 226.0, 224.0, 223.0, 223.0, 221.0, 221.0, 220.0, 220.0, 217.0, 214.0, 214.0, 207.0, 207.0, 206.0, 204.0, 201.0, 201.0, 200.0, 199.0, 198.0, 198.0, 198.0, 197.0, 196.0, 196.0, 195.0, 195.0, 194.0, 194.0, 193.0, 192.0, 188.0, 187.0, 187.0, 185.0, 184.0, 184.0, 184.0, 183.0, 182.0, 182.0, 182.0, 181.0, 178.0, 177.0, 177.0, 176.0, 176.0, 176.0, 175.0, 175.0, 174.0, 173.0, 173.0, 172.0, 171.0, 169.0, 168.0, 168.0, 167.0, 167.0, 166.0, 165.0, 164.0, 163.0, 163.0, 162.0, 162.0, 162.0, 161.0, 160.0, 160.0, 160.0, 160.0, 160.0, 159.0, 158.0, 156.0, 156.0, 156.0, 155.0, 155.0, 154.0, 154.0, 154.0, 154.0, 154.0, 153.0, 153.0, 153.0, 152.0, 151.0, 150.0, 150.0, 150.0, 149.0, 149.0, 149.0, 148.0, 148.0, 148.0, 148.0, 148.0, 147.0, 147.0, 147.0, 145.0, 144.0, 144.0, 144.0, 144.0, 144.0, 143.0, 141.0, 141.0, 141.0, 141.0, 140.0, 140.0, 140.0, 140.0, 139.0, 139.0, 139.0, 139.0, 138.0, 137.0, 136.0, 136.0, 136.0, 136.0, 135.0, 134.0, 134.0, 134.0, 133.0, 133.0, 133.0, 133.0, 133.0, 133.0, 133.0, 132.0, 132.0, 131.0, 131.0, 131.0, 131.0, 131.0, 130.0, 130.0, 130.0, 130.0, 129.0, 129.0, 128.0, 128.0, 127.0, 127.0, 127.0, 127.0, 126.0, 126.0, 126.0, 126.0, 126.0, 125.0, 125.0, 125.0, 124.0, 124.0, 124.0, 124.0, 123.0, 122.0, 122.0, 122.0, 122.0, 122.0, 121.0, 121.0, 121.0, 121.0, 121.0, 120.0, 120.0, 120.0, 120.0, 119.0, 119.0, 119.0, 118.0, 118.0, 118.0, 118.0, 118.0, 118.0, 118.0, 118.0, 118.0, 117.0, 117.0, 117.0, 117.0, 117.0, 117.0, 116.0, 116.0, 116.0, 116.0, 116.0, 116.0, 116.0, 115.0, 115.0, 115.0, 114.0, 114.0, 114.0, 114.0, 114.0, 113.0, 113.0, 112.0, 112.0, 112.0, 111.0, 111.0, 111.0, 111.0, 111.0, 111.0, 111.0, 111.0, 111.0, 111.0, 110.0, 110.0, 110.0, 109.0, 109.0, 109.0, 109.0, 109.0, 109.0, 109.0, 109.0, 108.0, 108.0, 108.0, 108.0, 108.0, 108.0, 108.0, 108.0, 107.0, 107.0, 107.0, 107.0, 107.0, 107.0, 107.0, 106.0, 106.0, 106.0, 106.0, 106.0, 106.0, 106.0, 106.0, 106.0, 105.0, 105.0, 105.0, 105.0, 105.0, 105.0, 105.0, 104.0, 104.0, 104.0, 104.0, 104.0, 104.0, 103.0, 103.0, 103.0, 103.0, 103.0, 103.0, 103.0, 103.0, 102.0, 102.0, 102.0, 102.0, 102.0, 102.0, 102.0, 102.0, 102.0, 102.0, 101.0, 101.0, 101.0, 101.0, 101.0, 101.0, 101.0, 101.0, 101.0, 101.0, 101.0, 100.0, 100.0, 100.0, 100.0, 100.0, 100.0, 100.0], \"type\": \"scatter\", \"uid\": \"3ea0362e-1ae4-465d-bd74-61d551a88ee9\", \"x\": [-71.08277637, -71.05976489, -71.09137369, -71.08563401, -71.12401947, -71.0597091, -71.05467933, -71.07085307, -71.0637051, -71.06940877, -71.06198607, -71.0608798, -71.10429432, -71.06313294, -71.07638124, -71.09187755, -71.0613401, -71.0741278, -71.06525499, -71.03929078, -71.07239518, -71.08051941, -71.07840978, -71.0749171, -71.07626098, -71.09880598, -71.06135413, -71.14822128, -71.06177615, -71.08688339, -71.1504985, -71.07436364, -71.09316781, -71.06954652, -71.06493967, -71.06012863, -71.06348817, -71.09659186, -71.06321676, -71.10087902, -71.05593196, -71.07849582, -71.07717023, -71.06312433, -71.14270449, -71.06256291, -71.03979926, -71.06536641, -71.06579592, -71.0727637, -71.07014395, -71.10377843, -71.08014801, -71.10782832, -71.07925506, -71.08482402, -71.04665434, -71.05474135, -71.09140736, -71.0964439, -71.0810344, -71.07538939, -71.08632016, -71.07452168, -71.11587798, -71.04210959, -71.11989956, -71.0718865, -71.09833083, -71.06046974, -71.06213513, -71.06373331, -71.08373481, -71.14522971, -71.0627594, -71.10428096, -71.08328981, -71.08262277, -71.12096171, -71.10328402, -71.0735877, -71.1253531, -71.06636305, -71.06132725, -71.10096723, -71.0585236, -71.07170293, -71.06380404, -71.08845935, -71.0619996, -71.09055618, -71.08299865, -71.07296566, -71.05349144, -71.08477887, -71.09870021, -71.09980109, -71.15274721, -71.08382217, -71.05288819, -71.09387677, -71.08405792, -71.06000539, -71.08530641, -71.09075049, -71.07461217, -71.06067801, -71.07666607, -71.10067012, -71.07881031, -71.06969334, -71.08990197, -71.03730221, -71.09606805, -71.06050249, -71.09823049, -71.08429595, -71.06258333, -71.06570084, -71.10164757, -71.06674608, -71.0595669, -71.05620816, -71.06130524, -71.06835343, -71.11183089, -71.04036424, -71.09199697, -71.07633479, -71.08130134, -71.0524813, -71.07227173, -71.05928145, -71.05715277, -71.083158, -71.08584976, -71.05881953, -71.06547135, -71.0773211, -71.0658297, -71.09039049, -71.07915167, -71.07572281, -71.09039724, -71.06444063, -71.14762531, -71.08180677, -71.08510501, -71.09380308, -71.08909334, -71.07220576, -71.06424768, -71.07836018, -71.06879992, -71.08502291, -71.06121836, -71.06285769, -71.04608937, -71.06280666, -71.08057671, -71.09746579, -71.08584183, -71.04023929, -71.14345725, -71.09452937, -71.09795135, -71.09550303, -71.06206351, -71.09707352, -71.10971613, -71.13180684, -71.10317575, -71.07410838, -71.08866865, -71.05893025, -71.06981187, -71.14319087, -71.09849282, -71.08206875, -71.06549569, -71.04291647, -71.08450821, -71.066253, -71.06778025, -71.08076738, -71.07104897, -71.09305138, -71.08254058, -71.11374152, -71.0576869, -71.06811584, -71.07692974, -71.05305583, -71.06296987, -71.0556788, -71.07549901, -71.07772012, -71.08097517, -71.11676234, -71.06468373, -71.05908258, -71.09932317, -71.07272215, -71.04941018, -71.09467467, -71.08745421, -71.10679596, -71.06575183, -71.07662788, -71.10298073, -71.0952644, -71.05633276, -71.03641895, -71.06021218, -71.07460717, -71.06016189, -71.07582361, -71.07560801, -71.13852468, -71.08751152, -71.08284839, -71.08511004, -71.05898587, -71.08341505, -71.03917179, -71.1018026, -71.06844484, -71.06760042, -71.0816673, -71.08237834, -71.05883334, -71.07364875, -71.0571127, -71.08015661, -71.07215291, -71.08565039, -71.06165515, -71.08489204, -71.08489748, -71.06792411, -71.09117863, -71.06432264, -71.14798064, -71.062607, -71.06270824, -71.16637332, -71.0938121, -71.08157395, -71.06493039, -71.11312439, -71.10066932, -71.07730382, -71.05195809, -71.062044, -71.1068278, -71.06864556, -71.08181675, -71.06886238, -71.07425843, -71.08007661, -71.07517847, -71.06425694, -71.07165726, -71.06189505, -71.07581493, -71.05791376, -71.08771531, -71.04803996, -71.07442362, -71.1142909, -71.06593235, -71.09959089, -71.04417249, -71.07194742, -71.07213, -71.09615503, -71.08213874, -71.15104267, -71.0992241, -71.11267011, -71.09486034, -71.05160423, -71.17204938, -71.07218295, -71.05482325, -71.12317207, -71.09554245, -71.07964562, -71.06126785, -71.08129856, -71.07972518, -71.09807867, -71.13125747, -71.07620742, -71.08206723, -71.08162344, -71.07626513, -71.07870873, -71.0638074, -71.14298078, -71.12422635, -71.04639023, -71.0892305, -71.04864886, -71.09130505, -71.06862907, -71.07322932, -71.07208833, -71.07102057, -71.05362239, -71.07186599, -71.06602232, -71.07388628, -71.06015261, -71.08118184, -71.13090649, -71.07839997, -71.07626209, -71.07141943, -71.07374541, -71.07010617, -71.07868791, -71.08763245, -71.06093185, -71.08038427, -71.0862124, -71.05259107, -71.06054873, -71.11152626, -71.08183509, -71.11989255, -71.12708146, -71.01203798, -71.05272807, -71.14098779, -71.1173157, -71.14492138, -71.07964653, -71.12467152, -71.08128808, -71.0607314, -71.0710271, -71.14813948, -71.06829572, -71.13114273, -71.05942841, -71.08194011, -71.06167557, -71.08789462, -71.06747771, -71.05253795, -71.06631579, -71.09817294, -71.08993418, -71.09824825, -71.17087959, -71.07468313, -71.00893922, -71.06615319, -71.06675783, -71.05841861, -71.07681348, -71.08350146, -71.12629908, -71.07337, -71.07891773, -71.07320696, -71.04736497, -71.07768279, -71.05800088, -71.0581068, -71.08887826, -71.0764015, -71.09691295, -71.09056227, -71.07642483, -71.06884734, -71.09384023, -71.08354076, -71.09998685, -71.0882492, -71.09388736, -71.05695787, -71.13860108, -71.0783156, -71.00842413, -71.06978865, -71.07932755, -71.06048592, -71.07802992, -71.06206081, -71.07945869, -71.08841746, -71.1006951, -71.07159012, -71.08721196, -71.05213281, -71.07838214, -71.07038932, -71.09848676, -71.10670681], \"y\": [42.34862382, 42.36183857, 42.28482577, 42.32866284, 42.25621592, 42.29755533, 42.34128751, 42.33152148, 42.3523119, 42.33954199, 42.32696647, 42.35512339, 42.30971857, 42.29848866, 42.33401829, 42.33367922, 42.310434, 42.35095909, 42.35241815, 42.37081805, 42.33428841, 42.32696802, 42.34980175, 42.33511904, 42.3503787, 42.3465382, 42.36643546, 42.28709355, 42.35602373, 42.34840576, 42.349056, 42.33555954, 42.33506218, 42.36240281, 42.34302527, 42.35521625, 42.34997256, 42.34489594, 42.32809966, 42.32469443, 42.37663167, 42.3479724, 42.29603943, 42.35540738, 42.34946444, 42.35272948, 42.37620267, 42.34942864, 42.32553801, 42.33311189, 42.33210843, 42.33380683, 42.34932471, 42.33606304, 42.34749899, 42.32925905, 42.336112, 42.35997967, 42.33123776, 42.34717363, 42.34999733, 42.33395125, 42.34439568, 42.35176179, 42.27531312, 42.31779354, 42.35170571, 42.29360585, 42.34442266, 42.29919694, 42.35637531, 42.35103105, 42.33044113, 42.34988575, 42.35174282, 42.33744152, 42.32823419, 42.30938437, 42.26701085, 42.32291406, 42.34453911, 42.2518944, 42.2783992, 42.3626075, 42.32283759, 42.35972137, 42.29131613, 42.35428377, 42.34044966, 42.35650174, 42.30878855, 42.27133005, 42.30461251, 42.32614559, 42.3043395, 42.31538436, 42.34353469, 42.35555336, 42.32872589, 42.35942556, 42.26817397, 42.31860134, 42.35591935, 42.32952036, 42.26956689, 42.33816387, 42.36646326, 42.35118005, 42.26788791, 42.35059717, 42.35143483, 42.30956305, 42.37546983, 42.34877575, 42.36489527, 42.31771534, 42.3457782, 42.35594239, 42.29881968, 42.32483301, 42.30344073, 42.30254239, 42.36020464, 42.28866198, 42.32856401, 42.28446743, 42.38229155, 42.27855984, 42.28716674, 42.34901954, 42.32557398, 42.35237073, 42.35648631, 42.31322413, 42.3494205, 42.30664081, 42.3575462, 42.30540715, 42.35009599, 42.31735472, 42.33402461, 42.3473098, 42.34063708, 42.28079658, 42.28526024, 42.3499624, 42.30649283, 42.28956988, 42.26994732, 42.31127726, 42.28029155, 42.29990887, 42.33755715, 42.31633855, 42.29752097, 42.29666202, 42.36038173, 42.28410589, 42.32198656, 42.33744115, 42.31506898, 42.29686162, 42.38093345, 42.36127607, 42.27791465, 42.31615184, 42.27615691, 42.35521429, 42.31949779, 42.26194848, 42.35204779, 42.32624204, 42.28431486, 42.34376458, 42.35680075, 42.28248068, 42.3468275, 42.34339388, 42.29478707, 42.35106637, 42.33550576, 42.34815229, 42.315969, 42.31363409, 42.33543394, 42.3036967, 42.28414025, 42.3169665, 42.28314714, 42.36139413, 42.35064439, 42.30812619, 42.32790482, 42.3523414, 42.35218278, 42.31224327, 42.34857652, 42.30576686, 42.24831869, 42.2843982, 42.30470399, 42.32270922, 42.34186765, 42.29767279, 42.31943966, 42.333382, 42.32665471, 42.30209443, 42.33675016, 42.30492239, 42.27683754, 42.34234193, 42.33561661, 42.30638323, 42.30876959, 42.35988372, 42.33562126, 42.33455374, 42.35595391, 42.28187061, 42.30896999, 42.29861988, 42.35370585, 42.32902469, 42.36943145, 42.34410718, 42.30870401, 42.30406722, 42.33048169, 42.29540175, 42.35426247, 42.28208198, 42.36179428, 42.33153805, 42.32104169, 42.33640891, 42.3642384, 42.34895777, 42.29944216, 42.27273548, 42.33001318, 42.35311007, 42.25943465, 42.31959298, 42.34255919, 42.35042609, 42.34601613, 42.31993295, 42.2871482, 42.30055518, 42.3451828, 42.30645148, 42.35961316, 42.3649755, 42.3211829, 42.30626521, 42.33330171, 42.34701666, 42.30090969, 42.31089986, 42.3360292, 42.35165733, 42.29057504, 42.356585, 42.28927826, 42.37736388, 42.34091586, 42.29234068, 42.27130225, 42.31193403, 42.36122324, 42.33056977, 42.33285027, 42.33130578, 42.332531, 42.34402604, 42.32853529, 42.35666076, 42.31485546, 42.31624019, 42.31529421, 42.33930416, 42.26932098, 42.30481467, 42.36067984, 42.25592648, 42.2752767, 42.31679542, 42.30060543, 42.33596847, 42.31985444, 42.34255587, 42.35085371, 42.34767067, 42.32221645, 42.31865102, 42.29926303, 42.30132851, 42.29042439, 42.34531664, 42.28342716, 42.35404844, 42.31632131, 42.33129745, 42.27934055, 42.30443502, 42.33331285, 42.33926764, 42.3367113, 42.35822966, 42.35157076, 42.35066174, 42.28339069, 42.30028028, 42.30154555, 42.35540113, 42.28465991, 42.31989006, 42.28962239, 42.28265604, 42.2834045, 42.3092779, 42.2857651, 42.36439256, 42.29268711, 42.30603974, 42.35649296, 42.36242887, 42.32639844, 42.27132363, 42.24361883, 42.30098889, 42.38783615, 42.367271, 42.34266946, 42.25940183, 42.3458376, 42.3189792, 42.25332979, 42.30085931, 42.35554806, 42.30010597, 42.2578406, 42.29910777, 42.35283155, 42.36394509, 42.28297379, 42.35145666, 42.28508809, 42.30829668, 42.36293611, 42.28863812, 42.27544327, 42.3144484, 42.31584636, 42.2802082, 42.30022551, 42.39214603, 42.30703835, 42.30648026, 42.32692112, 42.30144714, 42.2806123, 42.24124926, 42.33361, 42.34828759, 42.29244178, 42.28076737, 42.28623708, 42.30947615, 42.32445145, 42.27967051, 42.34947586, 42.31591905, 42.35055412, 42.32324394, 42.29581546, 42.26922278, 42.3078214, 42.31408519, 42.28406985, 42.31275031, 42.33014012, 42.34900739, 42.3353741, 42.39269663, 42.29938509, 42.30870132, 42.35193461, 42.35393998, 42.36109742, 42.32734041, 42.34710196, 42.34280177, 42.29019621, 42.34621459, 42.35438252, 42.3290038, 42.34827698, 42.2676132, 42.33857]}],\n",
       "                        {\"autosize\": false, \"height\": 1000, \"template\": {\"data\": {\"bar\": [{\"error_x\": {\"color\": \"#2a3f5f\"}, \"error_y\": {\"color\": \"#2a3f5f\"}, \"marker\": {\"line\": {\"color\": \"#E5ECF6\", \"width\": 0.5}}, \"type\": \"bar\"}], \"barpolar\": [{\"marker\": {\"line\": {\"color\": \"#E5ECF6\", \"width\": 0.5}}, \"type\": \"barpolar\"}], \"carpet\": [{\"aaxis\": {\"endlinecolor\": \"#2a3f5f\", \"gridcolor\": \"white\", \"linecolor\": \"white\", \"minorgridcolor\": \"white\", \"startlinecolor\": \"#2a3f5f\"}, \"baxis\": {\"endlinecolor\": \"#2a3f5f\", \"gridcolor\": \"white\", \"linecolor\": \"white\", \"minorgridcolor\": \"white\", \"startlinecolor\": \"#2a3f5f\"}, \"type\": \"carpet\"}], \"choropleth\": [{\"colorbar\": {\"outlinewidth\": 0, \"ticks\": \"\"}, \"type\": \"choropleth\"}], \"contour\": [{\"colorbar\": {\"outlinewidth\": 0, \"ticks\": \"\"}, \"colorscale\": [[0.0, \"#0d0887\"], [0.1111111111111111, \"#46039f\"], [0.2222222222222222, \"#7201a8\"], [0.3333333333333333, \"#9c179e\"], [0.4444444444444444, \"#bd3786\"], [0.5555555555555556, \"#d8576b\"], [0.6666666666666666, \"#ed7953\"], [0.7777777777777778, \"#fb9f3a\"], [0.8888888888888888, \"#fdca26\"], [1.0, \"#f0f921\"]], \"type\": \"contour\"}], \"contourcarpet\": [{\"colorbar\": {\"outlinewidth\": 0, \"ticks\": \"\"}, \"type\": \"contourcarpet\"}], \"heatmap\": [{\"colorbar\": {\"outlinewidth\": 0, \"ticks\": \"\"}, \"colorscale\": [[0.0, \"#0d0887\"], [0.1111111111111111, \"#46039f\"], [0.2222222222222222, \"#7201a8\"], [0.3333333333333333, \"#9c179e\"], [0.4444444444444444, \"#bd3786\"], [0.5555555555555556, \"#d8576b\"], [0.6666666666666666, \"#ed7953\"], [0.7777777777777778, \"#fb9f3a\"], [0.8888888888888888, \"#fdca26\"], [1.0, \"#f0f921\"]], \"type\": \"heatmap\"}], \"heatmapgl\": [{\"colorbar\": {\"outlinewidth\": 0, \"ticks\": \"\"}, \"colorscale\": [[0.0, \"#0d0887\"], [0.1111111111111111, \"#46039f\"], [0.2222222222222222, \"#7201a8\"], [0.3333333333333333, \"#9c179e\"], [0.4444444444444444, \"#bd3786\"], [0.5555555555555556, \"#d8576b\"], [0.6666666666666666, \"#ed7953\"], [0.7777777777777778, \"#fb9f3a\"], [0.8888888888888888, \"#fdca26\"], [1.0, \"#f0f921\"]], \"type\": \"heatmapgl\"}], \"histogram\": [{\"marker\": {\"colorbar\": {\"outlinewidth\": 0, \"ticks\": \"\"}}, \"type\": \"histogram\"}], \"histogram2d\": [{\"colorbar\": {\"outlinewidth\": 0, \"ticks\": \"\"}, \"colorscale\": [[0.0, \"#0d0887\"], [0.1111111111111111, \"#46039f\"], [0.2222222222222222, \"#7201a8\"], [0.3333333333333333, \"#9c179e\"], [0.4444444444444444, \"#bd3786\"], [0.5555555555555556, \"#d8576b\"], [0.6666666666666666, \"#ed7953\"], [0.7777777777777778, \"#fb9f3a\"], [0.8888888888888888, \"#fdca26\"], [1.0, \"#f0f921\"]], \"type\": \"histogram2d\"}], \"histogram2dcontour\": [{\"colorbar\": {\"outlinewidth\": 0, \"ticks\": \"\"}, \"colorscale\": [[0.0, \"#0d0887\"], [0.1111111111111111, \"#46039f\"], [0.2222222222222222, \"#7201a8\"], [0.3333333333333333, \"#9c179e\"], [0.4444444444444444, \"#bd3786\"], [0.5555555555555556, \"#d8576b\"], [0.6666666666666666, \"#ed7953\"], [0.7777777777777778, \"#fb9f3a\"], [0.8888888888888888, \"#fdca26\"], [1.0, \"#f0f921\"]], \"type\": \"histogram2dcontour\"}], \"mesh3d\": [{\"colorbar\": {\"outlinewidth\": 0, \"ticks\": \"\"}, \"type\": \"mesh3d\"}], \"parcoords\": [{\"line\": {\"colorbar\": {\"outlinewidth\": 0, \"ticks\": \"\"}}, \"type\": \"parcoords\"}], \"scatter\": [{\"marker\": {\"colorbar\": {\"outlinewidth\": 0, \"ticks\": \"\"}}, \"type\": \"scatter\"}], \"scatter3d\": [{\"line\": {\"colorbar\": {\"outlinewidth\": 0, \"ticks\": \"\"}}, \"marker\": {\"colorbar\": {\"outlinewidth\": 0, \"ticks\": \"\"}}, \"type\": \"scatter3d\"}], \"scattercarpet\": [{\"marker\": {\"colorbar\": {\"outlinewidth\": 0, \"ticks\": \"\"}}, \"type\": \"scattercarpet\"}], \"scattergeo\": [{\"marker\": {\"colorbar\": {\"outlinewidth\": 0, \"ticks\": \"\"}}, \"type\": \"scattergeo\"}], \"scattergl\": [{\"marker\": {\"colorbar\": {\"outlinewidth\": 0, \"ticks\": \"\"}}, \"type\": \"scattergl\"}], \"scattermapbox\": [{\"marker\": {\"colorbar\": {\"outlinewidth\": 0, \"ticks\": \"\"}}, \"type\": \"scattermapbox\"}], \"scatterpolar\": [{\"marker\": {\"colorbar\": {\"outlinewidth\": 0, \"ticks\": \"\"}}, \"type\": \"scatterpolar\"}], \"scatterpolargl\": [{\"marker\": {\"colorbar\": {\"outlinewidth\": 0, \"ticks\": \"\"}}, \"type\": \"scatterpolargl\"}], \"scatterternary\": [{\"marker\": {\"colorbar\": {\"outlinewidth\": 0, \"ticks\": \"\"}}, \"type\": \"scatterternary\"}], \"surface\": [{\"colorbar\": {\"outlinewidth\": 0, \"ticks\": \"\"}, \"colorscale\": [[0.0, \"#0d0887\"], [0.1111111111111111, \"#46039f\"], [0.2222222222222222, \"#7201a8\"], [0.3333333333333333, \"#9c179e\"], [0.4444444444444444, \"#bd3786\"], [0.5555555555555556, \"#d8576b\"], [0.6666666666666666, \"#ed7953\"], [0.7777777777777778, \"#fb9f3a\"], [0.8888888888888888, \"#fdca26\"], [1.0, \"#f0f921\"]], \"type\": \"surface\"}], \"table\": [{\"cells\": {\"fill\": {\"color\": \"#EBF0F8\"}, \"line\": {\"color\": \"white\"}}, \"header\": {\"fill\": {\"color\": \"#C8D4E3\"}, \"line\": {\"color\": \"white\"}}, \"type\": \"table\"}]}, \"layout\": {\"annotationdefaults\": {\"arrowcolor\": \"#2a3f5f\", \"arrowhead\": 0, \"arrowwidth\": 1}, \"colorscale\": {\"diverging\": [[0, \"#8e0152\"], [0.1, \"#c51b7d\"], [0.2, \"#de77ae\"], [0.3, \"#f1b6da\"], [0.4, \"#fde0ef\"], [0.5, \"#f7f7f7\"], [0.6, \"#e6f5d0\"], [0.7, \"#b8e186\"], [0.8, \"#7fbc41\"], [0.9, \"#4d9221\"], [1, \"#276419\"]], \"sequential\": [[0.0, \"#0d0887\"], [0.1111111111111111, \"#46039f\"], [0.2222222222222222, \"#7201a8\"], [0.3333333333333333, \"#9c179e\"], [0.4444444444444444, \"#bd3786\"], [0.5555555555555556, \"#d8576b\"], [0.6666666666666666, \"#ed7953\"], [0.7777777777777778, \"#fb9f3a\"], [0.8888888888888888, \"#fdca26\"], [1.0, \"#f0f921\"]], \"sequentialminus\": [[0.0, \"#0d0887\"], [0.1111111111111111, \"#46039f\"], [0.2222222222222222, \"#7201a8\"], [0.3333333333333333, \"#9c179e\"], [0.4444444444444444, \"#bd3786\"], [0.5555555555555556, \"#d8576b\"], [0.6666666666666666, \"#ed7953\"], [0.7777777777777778, \"#fb9f3a\"], [0.8888888888888888, \"#fdca26\"], [1.0, \"#f0f921\"]]}, \"colorway\": [\"#636efa\", \"#EF553B\", \"#00cc96\", \"#ab63fa\", \"#FFA15A\", \"#19d3f3\", \"#FF6692\", \"#B6E880\", \"#FF97FF\", \"#FECB52\"], \"font\": {\"color\": \"#2a3f5f\"}, \"geo\": {\"bgcolor\": \"white\", \"lakecolor\": \"white\", \"landcolor\": \"#E5ECF6\", \"showlakes\": true, \"showland\": true, \"subunitcolor\": \"white\"}, \"hoverlabel\": {\"align\": \"left\"}, \"hovermode\": \"closest\", \"mapbox\": {\"style\": \"light\"}, \"paper_bgcolor\": \"white\", \"plot_bgcolor\": \"#E5ECF6\", \"polar\": {\"angularaxis\": {\"gridcolor\": \"white\", \"linecolor\": \"white\", \"ticks\": \"\"}, \"bgcolor\": \"#E5ECF6\", \"radialaxis\": {\"gridcolor\": \"white\", \"linecolor\": \"white\", \"ticks\": \"\"}}, \"scene\": {\"xaxis\": {\"backgroundcolor\": \"#E5ECF6\", \"gridcolor\": \"white\", \"gridwidth\": 2, \"linecolor\": \"white\", \"showbackground\": true, \"ticks\": \"\", \"zerolinecolor\": \"white\"}, \"yaxis\": {\"backgroundcolor\": \"#E5ECF6\", \"gridcolor\": \"white\", \"gridwidth\": 2, \"linecolor\": \"white\", \"showbackground\": true, \"ticks\": \"\", \"zerolinecolor\": \"white\"}, \"zaxis\": {\"backgroundcolor\": \"#E5ECF6\", \"gridcolor\": \"white\", \"gridwidth\": 2, \"linecolor\": \"white\", \"showbackground\": true, \"ticks\": \"\", \"zerolinecolor\": \"white\"}}, \"shapedefaults\": {\"line\": {\"color\": \"#2a3f5f\"}}, \"ternary\": {\"aaxis\": {\"gridcolor\": \"white\", \"linecolor\": \"white\", \"ticks\": \"\"}, \"baxis\": {\"gridcolor\": \"white\", \"linecolor\": \"white\", \"ticks\": \"\"}, \"bgcolor\": \"#E5ECF6\", \"caxis\": {\"gridcolor\": \"white\", \"linecolor\": \"white\", \"ticks\": \"\"}}, \"title\": {\"x\": 0.05}, \"xaxis\": {\"automargin\": true, \"gridcolor\": \"white\", \"linecolor\": \"white\", \"ticks\": \"\", \"zerolinecolor\": \"white\", \"zerolinewidth\": 2}, \"yaxis\": {\"automargin\": true, \"gridcolor\": \"white\", \"linecolor\": \"white\", \"ticks\": \"\", \"zerolinecolor\": \"white\", \"zerolinewidth\": 2}}}, \"width\": 1000, \"xaxis\": {\"title\": {\"text\": \"Longitude\"}}, \"yaxis\": {\"title\": {\"text\": \"Latitude\"}}},\n",
       "                        {\"responsive\": true}\n",
       "                    ).then(function(){\n",
       "                            \n",
       "var gd = document.getElementById('0db53741-2a39-448b-abd9-47db863546ec');\n",
       "var x = new MutationObserver(function (mutations, observer) {{\n",
       "        var display = window.getComputedStyle(gd).display;\n",
       "        if (!display || display === 'none') {{\n",
       "            console.log([gd, 'removed!']);\n",
       "            Plotly.purge(gd);\n",
       "            observer.disconnect();\n",
       "        }}\n",
       "}});\n",
       "\n",
       "// Listen for the removal of the full notebook cells\n",
       "var notebookContainer = gd.closest('#notebook-container');\n",
       "if (notebookContainer) {{\n",
       "    x.observe(notebookContainer, {childList: true});\n",
       "}}\n",
       "\n",
       "// Listen for the clearing of the current output cell\n",
       "var outputEl = gd.closest('.output');\n",
       "if (outputEl) {{\n",
       "    x.observe(outputEl, {childList: true});\n",
       "}}\n",
       "\n",
       "                        })\n",
       "                };\n",
       "                });\n",
       "            </script>\n",
       "        </div>"
      ]
     },
     "metadata": {},
     "output_type": "display_data"
    }
   ],
   "source": [
    "# scatter plot to plot Latitude and Longitude according to the crime count\n",
    "scatter = go.Scatter(x=crime_max_loc_df['Long'],\n",
    "                     y=crime_max_loc_df['Lat'],\n",
    "                     marker={'color': crime_max_loc_df['COUNT'],\n",
    "                             'showscale': True},\n",
    "                     text=crime_max_loc_df['COUNT'],\n",
    "                     mode='markers')\n",
    "fig = go.FigureWidget(data=[scatter],\n",
    "                      layout={'xaxis': {'title': 'Longitude'},\n",
    "                              'yaxis': {'title': 'Latitude'}})\n",
    "fig.update_layout(\n",
    "    autosize=False,\n",
    "    width=1000,\n",
    "    height=1000\n",
    "    )\n",
    "fig.show()"
   ]
  }
 ],
 "metadata": {
  "kernelspec": {
   "display_name": "Python 3",
   "language": "python",
   "name": "python3"
  },
  "language_info": {
   "codemirror_mode": {
    "name": "ipython",
    "version": 3
   },
   "file_extension": ".py",
   "mimetype": "text/x-python",
   "name": "python",
   "nbconvert_exporter": "python",
   "pygments_lexer": "ipython3",
   "version": "3.7.4"
  }
 },
 "nbformat": 4,
 "nbformat_minor": 2
}
